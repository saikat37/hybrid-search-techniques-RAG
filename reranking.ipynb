{
 "cells": [
  {
   "cell_type": "code",
   "execution_count": 1,
   "id": "ea7dfeb2",
   "metadata": {},
   "outputs": [
    {
     "name": "stdout",
     "output_type": "stream",
     "text": [
      "reranking\n"
     ]
    }
   ],
   "source": [
    "print(\"reranking\")"
   ]
  },
  {
   "cell_type": "code",
   "execution_count": null,
   "id": "f9289745",
   "metadata": {},
   "outputs": [],
   "source": [
    "#all imports\n"
   ]
  }
 ],
 "metadata": {
  "kernelspec": {
   "display_name": "hybrid_search (3.11.13)",
   "language": "python",
   "name": "python3"
  },
  "language_info": {
   "codemirror_mode": {
    "name": "ipython",
    "version": 3
   },
   "file_extension": ".py",
   "mimetype": "text/x-python",
   "name": "python",
   "nbconvert_exporter": "python",
   "pygments_lexer": "ipython3",
   "version": "3.11.13"
  }
 },
 "nbformat": 4,
 "nbformat_minor": 5
}
