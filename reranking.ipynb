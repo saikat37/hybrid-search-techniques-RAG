{
 "cells": [
  {
   "cell_type": "code",
   "execution_count": 1,
   "id": "ea7dfeb2",
   "metadata": {},
   "outputs": [
    {
     "name": "stdout",
     "output_type": "stream",
     "text": [
      "reranking\n"
     ]
    }
   ],
   "source": [
    "print(\"reranking\")"
   ]
  },
  {
   "cell_type": "code",
   "execution_count": 3,
   "id": "b84926f7",
   "metadata": {},
   "outputs": [],
   "source": [
    "from langchain_community.vectorstores import FAISS\n",
    "from langchain.embeddings import HuggingFaceEmbeddings\n",
    "from langchain.document_loaders import PyMuPDFLoader\n",
    "from langchain.text_splitter import CharacterTextSplitter\n",
    "from langchain.retrievers import EnsembleRetriever\n",
    "from langchain.schema import Document\n",
    "from langchain_community.retrievers import BM25Retriever"
   ]
  },
  {
   "cell_type": "code",
   "execution_count": 4,
   "id": "76bac468",
   "metadata": {},
   "outputs": [],
   "source": [
    "from langchain_community.document_loaders import (\n",
    "    PyPDFLoader,\n",
    "    PyMuPDFLoader\n",
    ")"
   ]
  },
  {
   "cell_type": "code",
   "execution_count": 5,
   "id": "56396863",
   "metadata": {},
   "outputs": [
    {
     "name": "stdout",
     "output_type": "stream",
     "text": [
      "\n",
      " PyMuPDFLoader\n",
      "  Loaded 5 pages\n",
      "  Includes detailed metadata\n",
      "[Document(metadata={'producer': 'Microsoft® Word for Microsoft 365', 'creator': 'Microsoft® Word for Microsoft 365', 'creationdate': '2025-09-14T11:37:04+05:30', 'source': 'bengal.pdf', 'file_path': 'bengal.pdf', 'total_pages': 5, 'format': 'PDF 1.7', 'title': '', 'author': 'Saikat Santra', 'subject': '', 'keywords': '', 'moddate': '2025-09-14T11:37:04+05:30', 'trapped': '', 'modDate': \"D:20250914113704+05'30'\", 'creationDate': \"D:20250914113704+05'30'\", 'page': 0}, page_content='Bengal: A Historical, Cultural, and Socio-Economic Study \\nIntroduction \\nBengal, one of the most historically significant regions of South Asia, is today divided \\ninto the Indian state of West Bengal and the sovereign nation of Bangladesh. With a \\ncombined population of over 250 million people, Bengal represents one of the most \\ndensely populated and culturally vibrant areas of the world. For centuries, the region \\nhas been known as a land of abundance, thanks to the fertility of the Ganges-\\nBrahmaputra delta. It has also been a site of conflict, colonial exploitation, intellectual \\nrenaissance, and political transformation. \\nThe objective of this essay is to present a comprehensive research-style overview of \\nBengal. It explores Bengal’s history, geography, culture, economy, political \\ndevelopments, and the challenges faced in the modern era. The discussion emphasizes \\nBengal’s global significance as a land that has nurtured poets, philosophers, \\nrevolutionaries, and reformers while also enduring famines, partitions, and struggles for \\nidentity. \\n \\nHistorical Background \\nAncient Bengal \\nThe earliest historical references to Bengal appear in ancient Indian texts and \\ninscriptions. The region was known as Vanga or Banga, and was inhabited by people \\nskilled in navigation and trade. Archaeological evidence from sites such as Wari-\\nBateshwar suggests early urban settlements dating back to the 4th century BCE. Bengal \\nwas mentioned in Greek accounts, including those of Megasthenes, as a rich land on \\nthe eastern frontier of India. \\nBengal came under the influence of major dynasties such as the Mauryas (321–185 \\nBCE) and the Guptas (4th–6th centuries CE). These empires integrated Bengal into the \\nlarger cultural and economic networks of the Indian subcontinent. However, Bengal was \\ngeographically distant from the imperial centers, and local kingdoms such as the \\nGauda kingdom under King Shashanka (7th century) played a critical role in shaping its \\nindependent identity. \\nMedieval Bengal \\nFrom the 13th century, Bengal witnessed the arrival of Islamic rule. The Delhi Sultanate \\nexpanded eastward, and by the early 14th century, Bengal was established as a distinct \\nSultanate with its capital at Gaur. The Bengal Sultanate (1352–1576) was notable for \\nfostering cultural fusion between Islamic and Bengali traditions. Sufi saints spread \\nIslam in rural Bengal, while Persian and Bengali literary traditions flourished.'), Document(metadata={'producer': 'Microsoft® Word for Microsoft 365', 'creator': 'Microsoft® Word for Microsoft 365', 'creationdate': '2025-09-14T11:37:04+05:30', 'source': 'bengal.pdf', 'file_path': 'bengal.pdf', 'total_pages': 5, 'format': 'PDF 1.7', 'title': '', 'author': 'Saikat Santra', 'subject': '', 'keywords': '', 'moddate': '2025-09-14T11:37:04+05:30', 'trapped': '', 'modDate': \"D:20250914113704+05'30'\", 'creationDate': \"D:20250914113704+05'30'\", 'page': 1}, page_content='In 1576, Bengal came under the Mughal Empire. The province became one of the \\nwealthiest parts of the empire due to its thriving textile industry, particularly muslin and \\nsilk. Dhaka and Murshidabad emerged as major centers of commerce. European \\ntraders, including the Portuguese, Dutch, French, and British, established trading posts \\nin Bengal. \\nColonial Bengal \\nBengal’s destiny changed dramatically with the rise of the British East India Company. \\nThe Battle of Plassey (1757), in which the Company defeated Nawab Siraj-ud-Daulah, \\nmarked the beginning of colonial dominance. By 1765, the Company had gained Diwani \\nrights (revenue collection) over Bengal, Bihar, and Orissa, making Bengal the financial \\nbackbone of the British empire in India. \\nWhile Bengal enriched the colonial power, it also experienced devastating famines, \\nmost notably the Great Bengal Famine of 1943, which killed around three million \\npeople. The economic policies of deindustrialization crippled Bengal’s traditional textile \\nindustries. However, colonial Bengal also witnessed the Bengal Renaissance — a \\nperiod of intellectual awakening led by figures like Raja Ram Mohan Roy, Ishwar \\nChandra Vidyasagar, Bankim Chandra Chattopadhyay, and later Rabindranath Tagore. \\nBengal became a hub of reform movements, education, literature, and nationalist \\nthought. \\nPartition and Post-Colonial Bengal \\nThe Partition of Bengal in 1905 by the British, which divided the region into East Bengal \\n(Muslim-majority) and West Bengal (Hindu-majority), was a major turning point. \\nAlthough annulled in 1911 due to protests, it sowed communal divisions. Finally, in \\n1947, Bengal was partitioned again during Indian independence: East Bengal became \\nEast Pakistan (and later Bangladesh in 1971), while West Bengal remained with India. \\nPost-independence, both Bengals faced distinct trajectories. West Bengal became a \\ncenter of political turbulence, marked by refugee crises, leftist movements, and \\neventually long-standing communist rule. East Bengal, after decades of neglect under \\nPakistan, fought the Liberation War of 1971 to emerge as Bangladesh. \\n \\nGeography of Bengal \\nBengal is located in the Ganges-Brahmaputra-Meghna delta, the largest river delta in \\nthe world. This unique geographical feature has shaped Bengal’s culture and economy. \\nThe fertile alluvial soil supports agriculture, particularly rice cultivation. The \\nSundarbans, a vast mangrove forest shared by both West Bengal and Bangladesh, is \\nhome to the Royal Bengal Tiger and is a UNESCO World Heritage Site.'), Document(metadata={'producer': 'Microsoft® Word for Microsoft 365', 'creator': 'Microsoft® Word for Microsoft 365', 'creationdate': '2025-09-14T11:37:04+05:30', 'source': 'bengal.pdf', 'file_path': 'bengal.pdf', 'total_pages': 5, 'format': 'PDF 1.7', 'title': '', 'author': 'Saikat Santra', 'subject': '', 'keywords': '', 'moddate': '2025-09-14T11:37:04+05:30', 'trapped': '', 'modDate': \"D:20250914113704+05'30'\", 'creationDate': \"D:20250914113704+05'30'\", 'page': 2}, page_content='Bengal’s geography also makes it vulnerable to natural disasters such as cyclones, \\nfloods, and river erosion. These environmental challenges have deeply influenced \\nsettlement patterns, migration, and livelihood strategies across centuries. \\n \\nEconomy of Bengal \\nPre-Colonial Economy \\nHistorically, Bengal was known as the “Paradise of Nations” due to its wealth. The \\nmuslin of Dhaka was prized across Europe, while Bengal’s rice, jute, indigo, and silk \\nwere in global demand. The region’s rivers facilitated internal and external trade, making \\nBengal a key player in the Indian Ocean economy. \\nColonial Exploitation \\nUnder British rule, Bengal’s economy was reshaped to serve imperial interests. Indigo \\nand opium cultivation expanded, often through coercion, leading to peasant revolts \\nsuch as the Indigo Revolt of 1859–60. Traditional industries declined, while Calcutta \\n(now Kolkata) became the capital of British India until 1911, serving as a major \\nadministrative and commercial hub. \\nPost-Independence West Bengal \\nAfter independence, West Bengal faced economic challenges due to the influx of \\nmillions of refugees from East Bengal, industrial decline, and political instability. From \\nthe late 1970s to 2011, the Left Front government emphasized land reforms and rural \\ndevelopment, but industrial stagnation persisted. Recently, efforts have been made to \\nrevive industries, IT, and infrastructure in West Bengal. \\nPost-Independence Bangladesh \\nBangladesh, since its independence in 1971, has transformed from being an aid-\\ndependent economy to one of the fastest-growing economies in Asia. The ready-made \\ngarment (RMG) industry has been the backbone of its growth, alongside remittances \\nfrom overseas workers. Despite challenges of poverty, corruption, and climate change, \\nBangladesh has made significant progress in health, education, and women’s \\nempowerment. \\n \\nSociety and Culture \\nLanguage and Literature \\nBengali (Bangla) is the shared language of the region, spoken by over 230 million people. \\nIt is the seventh most spoken language in the world. Bengali literature has a rich'), Document(metadata={'producer': 'Microsoft® Word for Microsoft 365', 'creator': 'Microsoft® Word for Microsoft 365', 'creationdate': '2025-09-14T11:37:04+05:30', 'source': 'bengal.pdf', 'file_path': 'bengal.pdf', 'total_pages': 5, 'format': 'PDF 1.7', 'title': '', 'author': 'Saikat Santra', 'subject': '', 'keywords': '', 'moddate': '2025-09-14T11:37:04+05:30', 'trapped': '', 'modDate': \"D:20250914113704+05'30'\", 'creationDate': \"D:20250914113704+05'30'\", 'page': 3}, page_content='tradition, with medieval works like Charyapada and modern masterpieces by \\nRabindranath Tagore, who won the Nobel Prize in Literature in 1913. The Language \\nMovement of 1952 in East Pakistan, which eventually led to the recognition of Bengali \\nas a state language, is commemorated on International Mother Language Day (21 \\nFebruary) worldwide. \\nReligion and Syncretism \\nBengal is religiously diverse, with Hinduism and Islam as the two dominant faiths. The \\nBhakti and Sufi movements promoted harmony and spiritual pluralism. Figures like \\nChaitanya Mahaprabhu and Lalon Fakir symbolize Bengal’s syncretic traditions. \\nArt, Music, and Cinema \\nBengal has produced world-renowned artistic and musical traditions, from Rabindra \\nSangeet (songs composed by Tagore) to Nazrul Geeti (songs by Kazi Nazrul Islam). \\nBengali cinema, led by directors like Satyajit Ray, has earned global acclaim. Bengal’s \\nvisual arts, terracotta temples, and folk crafts like nakshi kantha embroidery reflect its \\ncultural richness. \\nFestivals \\nDurga Puja in West Bengal and Pohela Boishakh (Bengali New Year) in Bangladesh are \\nmajor cultural events that bring together communities, blending spirituality, art, and \\ncelebration. \\n \\nPolitical Developments \\nBengal has always been politically active. It was the cradle of the Indian nationalist \\nmovement, producing leaders like Subhas Chandra Bose, Aurobindo Ghosh, and Surya \\nSen. The revolutionary movements of Bengal played a significant role in challenging \\ncolonial rule. \\nPost-independence, West Bengal became a stronghold of leftist politics, with the \\nCommunist Party of India (Marxist) ruling for over three decades. In recent years, \\nregional parties such as the Trinamool Congress (TMC) have dominated politics. \\nIn Bangladesh, politics has been shaped by the rivalry between the Awami League and \\nthe Bangladesh Nationalist Party (BNP). The Liberation War of 1971 remains a defining \\npolitical event, and democracy, though often turbulent, has been consolidated in the \\ncountry. \\n \\nModern Challenges'), Document(metadata={'producer': 'Microsoft® Word for Microsoft 365', 'creator': 'Microsoft® Word for Microsoft 365', 'creationdate': '2025-09-14T11:37:04+05:30', 'source': 'bengal.pdf', 'file_path': 'bengal.pdf', 'total_pages': 5, 'format': 'PDF 1.7', 'title': '', 'author': 'Saikat Santra', 'subject': '', 'keywords': '', 'moddate': '2025-09-14T11:37:04+05:30', 'trapped': '', 'modDate': \"D:20250914113704+05'30'\", 'creationDate': \"D:20250914113704+05'30'\", 'page': 4}, page_content='Both West Bengal and Bangladesh face pressing challenges: \\n1. Overpopulation and Urbanization – Dhaka and Kolkata struggle with urban \\ncongestion and inadequate infrastructure. \\n2. Climate Change – Rising sea levels threaten the Sundarbans and coastal \\ncommunities. \\n3. Economic Inequality – Growth has not been equally distributed across rural and \\nurban areas. \\n4. Political Polarization – Deep divisions often disrupt governance. \\n5. Migration and Identity Issues – Refugee movements and border tensions \\ncontinue to influence society. \\n \\nConclusion \\nBengal is a land of paradoxes — immense cultural wealth alongside poverty, resilience \\namid natural calamities, and intellectual brilliance coupled with political turmoil. Its \\nhistory reflects cycles of prosperity and exploitation, creativity and struggle, unity and \\ndivision. Whether in the streets of Kolkata or the villages of Bangladesh, Bengal remains \\nalive with vibrant traditions, linguistic pride, and social dynamism. \\nThe story of Bengal is not merely regional; it is global. From Tagore’s poetry to the \\ngarment workers of Dhaka, Bengal contributes to world literature, economy, and \\npolitics. As the region moves forward, balancing heritage with modernization, Bengal \\nwill continue to be a crucial player in shaping South Asia’s future.')]\n"
     ]
    }
   ],
   "source": [
    "# Step1: Loaders\n",
    "print(\"\\n PyMuPDFLoader\")\n",
    "try:\n",
    "    loader = PyMuPDFLoader(\"bengal.pdf\")\n",
    "    docs = loader.load()\n",
    "\n",
    "    print(f\"  Loaded {len(docs)} pages\")\n",
    "    print(f\"  Includes detailed metadata\")\n",
    "    print(docs)\n",
    "except Exception as e:\n",
    "    print(f\"  Error: {e}\")"
   ]
  },
  {
   "cell_type": "code",
   "execution_count": 6,
   "id": "70cfa2a7",
   "metadata": {},
   "outputs": [
    {
     "name": "stdout",
     "output_type": "stream",
     "text": [
      "Total chunks: 31\n"
     ]
    }
   ],
   "source": [
    "#step 2 : Text Splitter\n",
    "from langchain.text_splitter import RecursiveCharacterTextSplitter\n",
    "\n",
    "# Create text splitter\n",
    "text_splitter = RecursiveCharacterTextSplitter(\n",
    "    chunk_size=400,    # size of each chunk\n",
    "    chunk_overlap=80   # overlap to maintain context\n",
    ")\n",
    "\n",
    "# Split documents into chunks\n",
    "docs = text_splitter.split_documents(docs)\n",
    "print(f\"Total chunks: {len(docs)}\")"
   ]
  },
  {
   "cell_type": "code",
   "execution_count": 8,
   "id": "c03b4713",
   "metadata": {},
   "outputs": [],
   "source": [
    "### FAISS and Huggingface model Embeddings\n",
    "\n",
    "from langchain_community.vectorstores import FAISS\n",
    "from langchain_huggingface import HuggingFaceEmbeddings\n",
    "\n",
    "embedding_model=HuggingFaceEmbeddings(model_name=\"all-MiniLM-L6-v2\")\n",
    "vectorstore=FAISS.from_documents(docs,embedding_model)\n",
    "retriever=vectorstore.as_retriever(search_kwargs={\"k\":8})"
   ]
  },
  {
   "cell_type": "code",
   "execution_count": 9,
   "id": "f54b1124",
   "metadata": {},
   "outputs": [
    {
     "data": {
      "text/plain": [
       "VectorStoreRetriever(tags=['FAISS', 'HuggingFaceEmbeddings'], vectorstore=<langchain_community.vectorstores.faiss.FAISS object at 0x00000226E68F9D50>, search_kwargs={'k': 8})"
      ]
     },
     "execution_count": 9,
     "metadata": {},
     "output_type": "execute_result"
    }
   ],
   "source": [
    "retriever"
   ]
  },
  {
   "cell_type": "code",
   "execution_count": 12,
   "id": "3e9b0d7e",
   "metadata": {},
   "outputs": [
    {
     "data": {
      "text/plain": [
       "ChatGroq(client=<groq.resources.chat.completions.Completions object at 0x00000226BF3EC850>, async_client=<groq.resources.chat.completions.AsyncCompletions object at 0x00000226BF4C3D90>, model_name='gemma2-9b-it', model_kwargs={}, groq_api_key=SecretStr('**********'))"
      ]
     },
     "execution_count": 12,
     "metadata": {},
     "output_type": "execute_result"
    }
   ],
   "source": [
    "## prompt and use the llm\n",
    "from dotenv import load_dotenv\n",
    "import os\n",
    "load_dotenv()\n",
    "\n",
    "from langchain.chat_models import init_chat_model\n",
    "os.environ[\"GROQ_API_KEY\"]=os.getenv(\"GROQ_API_KEY\")\n",
    "llm=init_chat_model(\"groq:gemma2-9b-it\")\n",
    "llm"
   ]
  },
  {
   "cell_type": "code",
   "execution_count": 13,
   "id": "aafa33c9",
   "metadata": {},
   "outputs": [],
   "source": [
    "# Prompt Template\n",
    "prompt = PromptTemplate.from_template(\"\"\"\n",
    "You are a helpful assistant. Your task is to rank the following documents from most to least relevant to the user's question.\n",
    "\n",
    "User Question: \"{question}\"\n",
    "\n",
    "Documents:\n",
    "{documents}\n",
    "\n",
    "Instructions:\n",
    "- Think about the relevance of each document to the user's question.\n",
    "- Return a list of document indices in ranked order, starting from the most relevant.\n",
    "\n",
    "Output format: comma-separated document indices (e.g., 2,1,3,0,...)\n",
    "\"\"\")"
   ]
  },
  {
   "cell_type": "code",
   "execution_count": 14,
   "id": "8ac2fa06",
   "metadata": {},
   "outputs": [],
   "source": [
    "## user query\n",
    "query=\"tell me about the history of Bengal\""
   ]
  },
  {
   "cell_type": "code",
   "execution_count": 15,
   "id": "ea5bba5b",
   "metadata": {},
   "outputs": [
    {
     "data": {
      "text/plain": [
       "[Document(id='6100712d-47f7-4300-ac34-0981d060cea8', metadata={'producer': 'Microsoft® Word for Microsoft 365', 'creator': 'Microsoft® Word for Microsoft 365', 'creationdate': '2025-09-14T11:37:04+05:30', 'source': 'bengal.pdf', 'file_path': 'bengal.pdf', 'total_pages': 5, 'format': 'PDF 1.7', 'title': '', 'author': 'Saikat Santra', 'subject': '', 'keywords': '', 'moddate': '2025-09-14T11:37:04+05:30', 'trapped': '', 'modDate': \"D:20250914113704+05'30'\", 'creationDate': \"D:20250914113704+05'30'\", 'page': 0}, page_content='Bengal. It explores Bengal’s history, geography, culture, economy, political \\ndevelopments, and the challenges faced in the modern era. The discussion emphasizes \\nBengal’s global significance as a land that has nurtured poets, philosophers, \\nrevolutionaries, and reformers while also enduring famines, partitions, and struggles for \\nidentity. \\n \\nHistorical Background \\nAncient Bengal'),\n",
       " Document(id='c8f917db-cee8-486d-b0cc-db6ff1c42a6f', metadata={'producer': 'Microsoft® Word for Microsoft 365', 'creator': 'Microsoft® Word for Microsoft 365', 'creationdate': '2025-09-14T11:37:04+05:30', 'source': 'bengal.pdf', 'file_path': 'bengal.pdf', 'total_pages': 5, 'format': 'PDF 1.7', 'title': '', 'author': 'Saikat Santra', 'subject': '', 'keywords': '', 'moddate': '2025-09-14T11:37:04+05:30', 'trapped': '', 'modDate': \"D:20250914113704+05'30'\", 'creationDate': \"D:20250914113704+05'30'\", 'page': 0}, page_content='identity. \\n \\nHistorical Background \\nAncient Bengal \\nThe earliest historical references to Bengal appear in ancient Indian texts and \\ninscriptions. The region was known as Vanga or Banga, and was inhabited by people \\nskilled in navigation and trade. Archaeological evidence from sites such as Wari-\\nBateshwar suggests early urban settlements dating back to the 4th century BCE. Bengal'),\n",
       " Document(id='f9b3f196-8708-4d03-a7d9-afd934495b43', metadata={'producer': 'Microsoft® Word for Microsoft 365', 'creator': 'Microsoft® Word for Microsoft 365', 'creationdate': '2025-09-14T11:37:04+05:30', 'source': 'bengal.pdf', 'file_path': 'bengal.pdf', 'total_pages': 5, 'format': 'PDF 1.7', 'title': '', 'author': 'Saikat Santra', 'subject': '', 'keywords': '', 'moddate': '2025-09-14T11:37:04+05:30', 'trapped': '', 'modDate': \"D:20250914113704+05'30'\", 'creationDate': \"D:20250914113704+05'30'\", 'page': 4}, page_content='history reflects cycles of prosperity and exploitation, creativity and struggle, unity and \\ndivision. Whether in the streets of Kolkata or the villages of Bangladesh, Bengal remains \\nalive with vibrant traditions, linguistic pride, and social dynamism. \\nThe story of Bengal is not merely regional; it is global. From Tagore’s poetry to the'),\n",
       " Document(id='eac58d3a-874e-4856-824b-061f55e2233c', metadata={'producer': 'Microsoft® Word for Microsoft 365', 'creator': 'Microsoft® Word for Microsoft 365', 'creationdate': '2025-09-14T11:37:04+05:30', 'source': 'bengal.pdf', 'file_path': 'bengal.pdf', 'total_pages': 5, 'format': 'PDF 1.7', 'title': '', 'author': 'Saikat Santra', 'subject': '', 'keywords': '', 'moddate': '2025-09-14T11:37:04+05:30', 'trapped': '', 'modDate': \"D:20250914113704+05'30'\", 'creationDate': \"D:20250914113704+05'30'\", 'page': 1}, page_content='Pakistan, fought the Liberation War of 1971 to emerge as Bangladesh. \\n \\nGeography of Bengal \\nBengal is located in the Ganges-Brahmaputra-Meghna delta, the largest river delta in \\nthe world. This unique geographical feature has shaped Bengal’s culture and economy. \\nThe fertile alluvial soil supports agriculture, particularly rice cultivation. The'),\n",
       " Document(id='7d32053c-e4d2-454a-a661-b1fd58b9c39d', metadata={'producer': 'Microsoft® Word for Microsoft 365', 'creator': 'Microsoft® Word for Microsoft 365', 'creationdate': '2025-09-14T11:37:04+05:30', 'source': 'bengal.pdf', 'file_path': 'bengal.pdf', 'total_pages': 5, 'format': 'PDF 1.7', 'title': '', 'author': 'Saikat Santra', 'subject': '', 'keywords': '', 'moddate': '2025-09-14T11:37:04+05:30', 'trapped': '', 'modDate': \"D:20250914113704+05'30'\", 'creationDate': \"D:20250914113704+05'30'\", 'page': 0}, page_content='was mentioned in Greek accounts, including those of Megasthenes, as a rich land on \\nthe eastern frontier of India. \\nBengal came under the influence of major dynasties such as the Mauryas (321–185 \\nBCE) and the Guptas (4th–6th centuries CE). These empires integrated Bengal into the \\nlarger cultural and economic networks of the Indian subcontinent. However, Bengal was'),\n",
       " Document(id='9faf78c3-02cd-4b9f-9afc-7120b46df40f', metadata={'producer': 'Microsoft® Word for Microsoft 365', 'creator': 'Microsoft® Word for Microsoft 365', 'creationdate': '2025-09-14T11:37:04+05:30', 'source': 'bengal.pdf', 'file_path': 'bengal.pdf', 'total_pages': 5, 'format': 'PDF 1.7', 'title': '', 'author': 'Saikat Santra', 'subject': '', 'keywords': '', 'moddate': '2025-09-14T11:37:04+05:30', 'trapped': '', 'modDate': \"D:20250914113704+05'30'\", 'creationDate': \"D:20250914113704+05'30'\", 'page': 1}, page_content='In 1576, Bengal came under the Mughal Empire. The province became one of the \\nwealthiest parts of the empire due to its thriving textile industry, particularly muslin and \\nsilk. Dhaka and Murshidabad emerged as major centers of commerce. European \\ntraders, including the Portuguese, Dutch, French, and British, established trading posts \\nin Bengal. \\nColonial Bengal'),\n",
       " Document(id='21c68065-3153-4051-811e-4b05d4f991c3', metadata={'producer': 'Microsoft® Word for Microsoft 365', 'creator': 'Microsoft® Word for Microsoft 365', 'creationdate': '2025-09-14T11:37:04+05:30', 'source': 'bengal.pdf', 'file_path': 'bengal.pdf', 'total_pages': 5, 'format': 'PDF 1.7', 'title': '', 'author': 'Saikat Santra', 'subject': '', 'keywords': '', 'moddate': '2025-09-14T11:37:04+05:30', 'trapped': '', 'modDate': \"D:20250914113704+05'30'\", 'creationDate': \"D:20250914113704+05'30'\", 'page': 0}, page_content='Bengal: A Historical, Cultural, and Socio-Economic Study \\nIntroduction \\nBengal, one of the most historically significant regions of South Asia, is today divided \\ninto the Indian state of West Bengal and the sovereign nation of Bangladesh. With a \\ncombined population of over 250 million people, Bengal represents one of the most'),\n",
       " Document(id='da5f04e8-31d7-4281-9f9f-259e82c1b9d3', metadata={'producer': 'Microsoft® Word for Microsoft 365', 'creator': 'Microsoft® Word for Microsoft 365', 'creationdate': '2025-09-14T11:37:04+05:30', 'source': 'bengal.pdf', 'file_path': 'bengal.pdf', 'total_pages': 5, 'format': 'PDF 1.7', 'title': '', 'author': 'Saikat Santra', 'subject': '', 'keywords': '', 'moddate': '2025-09-14T11:37:04+05:30', 'trapped': '', 'modDate': \"D:20250914113704+05'30'\", 'creationDate': \"D:20250914113704+05'30'\", 'page': 2}, page_content='Bengal’s geography also makes it vulnerable to natural disasters such as cyclones, \\nfloods, and river erosion. These environmental challenges have deeply influenced \\nsettlement patterns, migration, and livelihood strategies across centuries. \\n \\nEconomy of Bengal \\nPre-Colonial Economy \\nHistorically, Bengal was known as the “Paradise of Nations” due to its wealth. The')]"
      ]
     },
     "execution_count": 15,
     "metadata": {},
     "output_type": "execute_result"
    }
   ],
   "source": [
    "retrieved_docs=retriever.invoke(query)\n",
    "retrieved_docs"
   ]
  },
  {
   "cell_type": "code",
   "execution_count": 16,
   "id": "90122f98",
   "metadata": {},
   "outputs": [
    {
     "data": {
      "text/plain": [
       "PromptTemplate(input_variables=['documents', 'question'], input_types={}, partial_variables={}, template='\\nYou are a helpful assistant. Your task is to rank the following documents from most to least relevant to the user\\'s question.\\n\\nUser Question: \"{question}\"\\n\\nDocuments:\\n{documents}\\n\\nInstructions:\\n- Think about the relevance of each document to the user\\'s question.\\n- Return a list of document indices in ranked order, starting from the most relevant.\\n\\nOutput format: comma-separated document indices (e.g., 2,1,3,0,...)\\n')\n",
       "| ChatGroq(client=<groq.resources.chat.completions.Completions object at 0x00000226BF3EC850>, async_client=<groq.resources.chat.completions.AsyncCompletions object at 0x00000226BF4C3D90>, model_name='gemma2-9b-it', model_kwargs={}, groq_api_key=SecretStr('**********'))\n",
       "| StrOutputParser()"
      ]
     },
     "execution_count": 16,
     "metadata": {},
     "output_type": "execute_result"
    }
   ],
   "source": [
    "chain=prompt| llm | StrOutputParser()\n",
    "chain"
   ]
  },
  {
   "cell_type": "code",
   "execution_count": 17,
   "id": "a2a423ce",
   "metadata": {},
   "outputs": [],
   "source": [
    "doc_lines = [f\"{i+1}. {doc.page_content}\" for i, doc in enumerate(retrieved_docs)]\n",
    "formatted_docs = \"\\n\".join(doc_lines)"
   ]
  },
  {
   "cell_type": "code",
   "execution_count": 18,
   "id": "5e6d0055",
   "metadata": {},
   "outputs": [
    {
     "data": {
      "text/plain": [
       "['1. Bengal. It explores Bengal’s history, geography, culture, economy, political \\ndevelopments, and the challenges faced in the modern era. The discussion emphasizes \\nBengal’s global significance as a land that has nurtured poets, philosophers, \\nrevolutionaries, and reformers while also enduring famines, partitions, and struggles for \\nidentity. \\n \\nHistorical Background \\nAncient Bengal',\n",
       " '2. identity. \\n \\nHistorical Background \\nAncient Bengal \\nThe earliest historical references to Bengal appear in ancient Indian texts and \\ninscriptions. The region was known as Vanga or Banga, and was inhabited by people \\nskilled in navigation and trade. Archaeological evidence from sites such as Wari-\\nBateshwar suggests early urban settlements dating back to the 4th century BCE. Bengal',\n",
       " '3. history reflects cycles of prosperity and exploitation, creativity and struggle, unity and \\ndivision. Whether in the streets of Kolkata or the villages of Bangladesh, Bengal remains \\nalive with vibrant traditions, linguistic pride, and social dynamism. \\nThe story of Bengal is not merely regional; it is global. From Tagore’s poetry to the',\n",
       " '4. Pakistan, fought the Liberation War of 1971 to emerge as Bangladesh. \\n \\nGeography of Bengal \\nBengal is located in the Ganges-Brahmaputra-Meghna delta, the largest river delta in \\nthe world. This unique geographical feature has shaped Bengal’s culture and economy. \\nThe fertile alluvial soil supports agriculture, particularly rice cultivation. The',\n",
       " '5. was mentioned in Greek accounts, including those of Megasthenes, as a rich land on \\nthe eastern frontier of India. \\nBengal came under the influence of major dynasties such as the Mauryas (321–185 \\nBCE) and the Guptas (4th–6th centuries CE). These empires integrated Bengal into the \\nlarger cultural and economic networks of the Indian subcontinent. However, Bengal was',\n",
       " '6. In 1576, Bengal came under the Mughal Empire. The province became one of the \\nwealthiest parts of the empire due to its thriving textile industry, particularly muslin and \\nsilk. Dhaka and Murshidabad emerged as major centers of commerce. European \\ntraders, including the Portuguese, Dutch, French, and British, established trading posts \\nin Bengal. \\nColonial Bengal',\n",
       " '7. Bengal: A Historical, Cultural, and Socio-Economic Study \\nIntroduction \\nBengal, one of the most historically significant regions of South Asia, is today divided \\ninto the Indian state of West Bengal and the sovereign nation of Bangladesh. With a \\ncombined population of over 250 million people, Bengal represents one of the most',\n",
       " '8. Bengal’s geography also makes it vulnerable to natural disasters such as cyclones, \\nfloods, and river erosion. These environmental challenges have deeply influenced \\nsettlement patterns, migration, and livelihood strategies across centuries. \\n \\nEconomy of Bengal \\nPre-Colonial Economy \\nHistorically, Bengal was known as the “Paradise of Nations” due to its wealth. The']"
      ]
     },
     "execution_count": 18,
     "metadata": {},
     "output_type": "execute_result"
    }
   ],
   "source": [
    "doc_lines"
   ]
  },
  {
   "cell_type": "code",
   "execution_count": 19,
   "id": "f0e62fbd",
   "metadata": {},
   "outputs": [
    {
     "data": {
      "text/plain": [
       "'1. Bengal. It explores Bengal’s history, geography, culture, economy, political \\ndevelopments, and the challenges faced in the modern era. The discussion emphasizes \\nBengal’s global significance as a land that has nurtured poets, philosophers, \\nrevolutionaries, and reformers while also enduring famines, partitions, and struggles for \\nidentity. \\n \\nHistorical Background \\nAncient Bengal\\n2. identity. \\n \\nHistorical Background \\nAncient Bengal \\nThe earliest historical references to Bengal appear in ancient Indian texts and \\ninscriptions. The region was known as Vanga or Banga, and was inhabited by people \\nskilled in navigation and trade. Archaeological evidence from sites such as Wari-\\nBateshwar suggests early urban settlements dating back to the 4th century BCE. Bengal\\n3. history reflects cycles of prosperity and exploitation, creativity and struggle, unity and \\ndivision. Whether in the streets of Kolkata or the villages of Bangladesh, Bengal remains \\nalive with vibrant traditions, linguistic pride, and social dynamism. \\nThe story of Bengal is not merely regional; it is global. From Tagore’s poetry to the\\n4. Pakistan, fought the Liberation War of 1971 to emerge as Bangladesh. \\n \\nGeography of Bengal \\nBengal is located in the Ganges-Brahmaputra-Meghna delta, the largest river delta in \\nthe world. This unique geographical feature has shaped Bengal’s culture and economy. \\nThe fertile alluvial soil supports agriculture, particularly rice cultivation. The\\n5. was mentioned in Greek accounts, including those of Megasthenes, as a rich land on \\nthe eastern frontier of India. \\nBengal came under the influence of major dynasties such as the Mauryas (321–185 \\nBCE) and the Guptas (4th–6th centuries CE). These empires integrated Bengal into the \\nlarger cultural and economic networks of the Indian subcontinent. However, Bengal was\\n6. In 1576, Bengal came under the Mughal Empire. The province became one of the \\nwealthiest parts of the empire due to its thriving textile industry, particularly muslin and \\nsilk. Dhaka and Murshidabad emerged as major centers of commerce. European \\ntraders, including the Portuguese, Dutch, French, and British, established trading posts \\nin Bengal. \\nColonial Bengal\\n7. Bengal: A Historical, Cultural, and Socio-Economic Study \\nIntroduction \\nBengal, one of the most historically significant regions of South Asia, is today divided \\ninto the Indian state of West Bengal and the sovereign nation of Bangladesh. With a \\ncombined population of over 250 million people, Bengal represents one of the most\\n8. Bengal’s geography also makes it vulnerable to natural disasters such as cyclones, \\nfloods, and river erosion. These environmental challenges have deeply influenced \\nsettlement patterns, migration, and livelihood strategies across centuries. \\n \\nEconomy of Bengal \\nPre-Colonial Economy \\nHistorically, Bengal was known as the “Paradise of Nations” due to its wealth. The'"
      ]
     },
     "execution_count": 19,
     "metadata": {},
     "output_type": "execute_result"
    }
   ],
   "source": [
    "formatted_docs"
   ]
  },
  {
   "cell_type": "code",
   "execution_count": 20,
   "id": "fce12ff3",
   "metadata": {},
   "outputs": [
    {
     "data": {
      "text/plain": [
       "'Here\\'s a ranking of the documents based on relevance to the user\\'s question \"tell me about the history of Bengal\":\\n\\n1, 2, 3, 5, 6, 7, 8, 4 \\n\\n**Explanation:**\\n\\n* **Document 1** provides a comprehensive overview of Bengal\\'s history, geography, culture, and economy, making it the most relevant.\\n* **Document 2** focuses specifically on the ancient history of Bengal, offering valuable historical context.\\n* **Document 3** highlights key historical themes and dynamics in Bengal, emphasizing its rich and complex past.\\n* **Document 5** delves into early historical references to Bengal and its interactions with major empires.\\n* **Document 6** outlines Bengal\\'s history under the Mughal Empire, a significant period in its development.\\n* **Document 7** is a study of Bengal\\'s history, culture, and socio-economics, providing a broad historical perspective.\\n* **Document 8** discusses Bengal\\'s geography and its influence on history, including its vulnerability to natural disasters. \\n* **Document 4**  is the least relevant as it focuses on the  Liberation War of Bangladesh and the formation of the nation, while the user\\'s question is broader in scope. \\n\\n\\n\\nLet me know if you have any other questions. \\n'"
      ]
     },
     "execution_count": 20,
     "metadata": {},
     "output_type": "execute_result"
    }
   ],
   "source": [
    "response=chain.invoke({\"question\":query,\"documents\":formatted_docs})\n",
    "response"
   ]
  },
  {
   "cell_type": "code",
   "execution_count": 21,
   "id": "ef8f0036",
   "metadata": {},
   "outputs": [
    {
     "data": {
      "text/plain": [
       "[1, 2, 4, 5, 6, 7]"
      ]
     },
     "execution_count": 21,
     "metadata": {},
     "output_type": "execute_result"
    }
   ],
   "source": [
    "# Step 5: Parse and rerank\n",
    "indices = [int(x.strip()) - 1 for x in response.split(\",\") if x.strip().isdigit()]\n",
    "indices"
   ]
  },
  {
   "cell_type": "code",
   "execution_count": 22,
   "id": "71a7a980",
   "metadata": {},
   "outputs": [
    {
     "data": {
      "text/plain": [
       "[Document(id='6100712d-47f7-4300-ac34-0981d060cea8', metadata={'producer': 'Microsoft® Word for Microsoft 365', 'creator': 'Microsoft® Word for Microsoft 365', 'creationdate': '2025-09-14T11:37:04+05:30', 'source': 'bengal.pdf', 'file_path': 'bengal.pdf', 'total_pages': 5, 'format': 'PDF 1.7', 'title': '', 'author': 'Saikat Santra', 'subject': '', 'keywords': '', 'moddate': '2025-09-14T11:37:04+05:30', 'trapped': '', 'modDate': \"D:20250914113704+05'30'\", 'creationDate': \"D:20250914113704+05'30'\", 'page': 0}, page_content='Bengal. It explores Bengal’s history, geography, culture, economy, political \\ndevelopments, and the challenges faced in the modern era. The discussion emphasizes \\nBengal’s global significance as a land that has nurtured poets, philosophers, \\nrevolutionaries, and reformers while also enduring famines, partitions, and struggles for \\nidentity. \\n \\nHistorical Background \\nAncient Bengal'),\n",
       " Document(id='c8f917db-cee8-486d-b0cc-db6ff1c42a6f', metadata={'producer': 'Microsoft® Word for Microsoft 365', 'creator': 'Microsoft® Word for Microsoft 365', 'creationdate': '2025-09-14T11:37:04+05:30', 'source': 'bengal.pdf', 'file_path': 'bengal.pdf', 'total_pages': 5, 'format': 'PDF 1.7', 'title': '', 'author': 'Saikat Santra', 'subject': '', 'keywords': '', 'moddate': '2025-09-14T11:37:04+05:30', 'trapped': '', 'modDate': \"D:20250914113704+05'30'\", 'creationDate': \"D:20250914113704+05'30'\", 'page': 0}, page_content='identity. \\n \\nHistorical Background \\nAncient Bengal \\nThe earliest historical references to Bengal appear in ancient Indian texts and \\ninscriptions. The region was known as Vanga or Banga, and was inhabited by people \\nskilled in navigation and trade. Archaeological evidence from sites such as Wari-\\nBateshwar suggests early urban settlements dating back to the 4th century BCE. Bengal'),\n",
       " Document(id='f9b3f196-8708-4d03-a7d9-afd934495b43', metadata={'producer': 'Microsoft® Word for Microsoft 365', 'creator': 'Microsoft® Word for Microsoft 365', 'creationdate': '2025-09-14T11:37:04+05:30', 'source': 'bengal.pdf', 'file_path': 'bengal.pdf', 'total_pages': 5, 'format': 'PDF 1.7', 'title': '', 'author': 'Saikat Santra', 'subject': '', 'keywords': '', 'moddate': '2025-09-14T11:37:04+05:30', 'trapped': '', 'modDate': \"D:20250914113704+05'30'\", 'creationDate': \"D:20250914113704+05'30'\", 'page': 4}, page_content='history reflects cycles of prosperity and exploitation, creativity and struggle, unity and \\ndivision. Whether in the streets of Kolkata or the villages of Bangladesh, Bengal remains \\nalive with vibrant traditions, linguistic pride, and social dynamism. \\nThe story of Bengal is not merely regional; it is global. From Tagore’s poetry to the'),\n",
       " Document(id='eac58d3a-874e-4856-824b-061f55e2233c', metadata={'producer': 'Microsoft® Word for Microsoft 365', 'creator': 'Microsoft® Word for Microsoft 365', 'creationdate': '2025-09-14T11:37:04+05:30', 'source': 'bengal.pdf', 'file_path': 'bengal.pdf', 'total_pages': 5, 'format': 'PDF 1.7', 'title': '', 'author': 'Saikat Santra', 'subject': '', 'keywords': '', 'moddate': '2025-09-14T11:37:04+05:30', 'trapped': '', 'modDate': \"D:20250914113704+05'30'\", 'creationDate': \"D:20250914113704+05'30'\", 'page': 1}, page_content='Pakistan, fought the Liberation War of 1971 to emerge as Bangladesh. \\n \\nGeography of Bengal \\nBengal is located in the Ganges-Brahmaputra-Meghna delta, the largest river delta in \\nthe world. This unique geographical feature has shaped Bengal’s culture and economy. \\nThe fertile alluvial soil supports agriculture, particularly rice cultivation. The'),\n",
       " Document(id='7d32053c-e4d2-454a-a661-b1fd58b9c39d', metadata={'producer': 'Microsoft® Word for Microsoft 365', 'creator': 'Microsoft® Word for Microsoft 365', 'creationdate': '2025-09-14T11:37:04+05:30', 'source': 'bengal.pdf', 'file_path': 'bengal.pdf', 'total_pages': 5, 'format': 'PDF 1.7', 'title': '', 'author': 'Saikat Santra', 'subject': '', 'keywords': '', 'moddate': '2025-09-14T11:37:04+05:30', 'trapped': '', 'modDate': \"D:20250914113704+05'30'\", 'creationDate': \"D:20250914113704+05'30'\", 'page': 0}, page_content='was mentioned in Greek accounts, including those of Megasthenes, as a rich land on \\nthe eastern frontier of India. \\nBengal came under the influence of major dynasties such as the Mauryas (321–185 \\nBCE) and the Guptas (4th–6th centuries CE). These empires integrated Bengal into the \\nlarger cultural and economic networks of the Indian subcontinent. However, Bengal was'),\n",
       " Document(id='9faf78c3-02cd-4b9f-9afc-7120b46df40f', metadata={'producer': 'Microsoft® Word for Microsoft 365', 'creator': 'Microsoft® Word for Microsoft 365', 'creationdate': '2025-09-14T11:37:04+05:30', 'source': 'bengal.pdf', 'file_path': 'bengal.pdf', 'total_pages': 5, 'format': 'PDF 1.7', 'title': '', 'author': 'Saikat Santra', 'subject': '', 'keywords': '', 'moddate': '2025-09-14T11:37:04+05:30', 'trapped': '', 'modDate': \"D:20250914113704+05'30'\", 'creationDate': \"D:20250914113704+05'30'\", 'page': 1}, page_content='In 1576, Bengal came under the Mughal Empire. The province became one of the \\nwealthiest parts of the empire due to its thriving textile industry, particularly muslin and \\nsilk. Dhaka and Murshidabad emerged as major centers of commerce. European \\ntraders, including the Portuguese, Dutch, French, and British, established trading posts \\nin Bengal. \\nColonial Bengal'),\n",
       " Document(id='21c68065-3153-4051-811e-4b05d4f991c3', metadata={'producer': 'Microsoft® Word for Microsoft 365', 'creator': 'Microsoft® Word for Microsoft 365', 'creationdate': '2025-09-14T11:37:04+05:30', 'source': 'bengal.pdf', 'file_path': 'bengal.pdf', 'total_pages': 5, 'format': 'PDF 1.7', 'title': '', 'author': 'Saikat Santra', 'subject': '', 'keywords': '', 'moddate': '2025-09-14T11:37:04+05:30', 'trapped': '', 'modDate': \"D:20250914113704+05'30'\", 'creationDate': \"D:20250914113704+05'30'\", 'page': 0}, page_content='Bengal: A Historical, Cultural, and Socio-Economic Study \\nIntroduction \\nBengal, one of the most historically significant regions of South Asia, is today divided \\ninto the Indian state of West Bengal and the sovereign nation of Bangladesh. With a \\ncombined population of over 250 million people, Bengal represents one of the most'),\n",
       " Document(id='da5f04e8-31d7-4281-9f9f-259e82c1b9d3', metadata={'producer': 'Microsoft® Word for Microsoft 365', 'creator': 'Microsoft® Word for Microsoft 365', 'creationdate': '2025-09-14T11:37:04+05:30', 'source': 'bengal.pdf', 'file_path': 'bengal.pdf', 'total_pages': 5, 'format': 'PDF 1.7', 'title': '', 'author': 'Saikat Santra', 'subject': '', 'keywords': '', 'moddate': '2025-09-14T11:37:04+05:30', 'trapped': '', 'modDate': \"D:20250914113704+05'30'\", 'creationDate': \"D:20250914113704+05'30'\", 'page': 2}, page_content='Bengal’s geography also makes it vulnerable to natural disasters such as cyclones, \\nfloods, and river erosion. These environmental challenges have deeply influenced \\nsettlement patterns, migration, and livelihood strategies across centuries. \\n \\nEconomy of Bengal \\nPre-Colonial Economy \\nHistorically, Bengal was known as the “Paradise of Nations” due to its wealth. The')]"
      ]
     },
     "execution_count": 22,
     "metadata": {},
     "output_type": "execute_result"
    }
   ],
   "source": [
    "retrieved_docs"
   ]
  },
  {
   "cell_type": "code",
   "execution_count": 23,
   "id": "a3c2663e",
   "metadata": {},
   "outputs": [
    {
     "data": {
      "text/plain": [
       "[Document(id='c8f917db-cee8-486d-b0cc-db6ff1c42a6f', metadata={'producer': 'Microsoft® Word for Microsoft 365', 'creator': 'Microsoft® Word for Microsoft 365', 'creationdate': '2025-09-14T11:37:04+05:30', 'source': 'bengal.pdf', 'file_path': 'bengal.pdf', 'total_pages': 5, 'format': 'PDF 1.7', 'title': '', 'author': 'Saikat Santra', 'subject': '', 'keywords': '', 'moddate': '2025-09-14T11:37:04+05:30', 'trapped': '', 'modDate': \"D:20250914113704+05'30'\", 'creationDate': \"D:20250914113704+05'30'\", 'page': 0}, page_content='identity. \\n \\nHistorical Background \\nAncient Bengal \\nThe earliest historical references to Bengal appear in ancient Indian texts and \\ninscriptions. The region was known as Vanga or Banga, and was inhabited by people \\nskilled in navigation and trade. Archaeological evidence from sites such as Wari-\\nBateshwar suggests early urban settlements dating back to the 4th century BCE. Bengal'),\n",
       " Document(id='f9b3f196-8708-4d03-a7d9-afd934495b43', metadata={'producer': 'Microsoft® Word for Microsoft 365', 'creator': 'Microsoft® Word for Microsoft 365', 'creationdate': '2025-09-14T11:37:04+05:30', 'source': 'bengal.pdf', 'file_path': 'bengal.pdf', 'total_pages': 5, 'format': 'PDF 1.7', 'title': '', 'author': 'Saikat Santra', 'subject': '', 'keywords': '', 'moddate': '2025-09-14T11:37:04+05:30', 'trapped': '', 'modDate': \"D:20250914113704+05'30'\", 'creationDate': \"D:20250914113704+05'30'\", 'page': 4}, page_content='history reflects cycles of prosperity and exploitation, creativity and struggle, unity and \\ndivision. Whether in the streets of Kolkata or the villages of Bangladesh, Bengal remains \\nalive with vibrant traditions, linguistic pride, and social dynamism. \\nThe story of Bengal is not merely regional; it is global. From Tagore’s poetry to the'),\n",
       " Document(id='7d32053c-e4d2-454a-a661-b1fd58b9c39d', metadata={'producer': 'Microsoft® Word for Microsoft 365', 'creator': 'Microsoft® Word for Microsoft 365', 'creationdate': '2025-09-14T11:37:04+05:30', 'source': 'bengal.pdf', 'file_path': 'bengal.pdf', 'total_pages': 5, 'format': 'PDF 1.7', 'title': '', 'author': 'Saikat Santra', 'subject': '', 'keywords': '', 'moddate': '2025-09-14T11:37:04+05:30', 'trapped': '', 'modDate': \"D:20250914113704+05'30'\", 'creationDate': \"D:20250914113704+05'30'\", 'page': 0}, page_content='was mentioned in Greek accounts, including those of Megasthenes, as a rich land on \\nthe eastern frontier of India. \\nBengal came under the influence of major dynasties such as the Mauryas (321–185 \\nBCE) and the Guptas (4th–6th centuries CE). These empires integrated Bengal into the \\nlarger cultural and economic networks of the Indian subcontinent. However, Bengal was'),\n",
       " Document(id='9faf78c3-02cd-4b9f-9afc-7120b46df40f', metadata={'producer': 'Microsoft® Word for Microsoft 365', 'creator': 'Microsoft® Word for Microsoft 365', 'creationdate': '2025-09-14T11:37:04+05:30', 'source': 'bengal.pdf', 'file_path': 'bengal.pdf', 'total_pages': 5, 'format': 'PDF 1.7', 'title': '', 'author': 'Saikat Santra', 'subject': '', 'keywords': '', 'moddate': '2025-09-14T11:37:04+05:30', 'trapped': '', 'modDate': \"D:20250914113704+05'30'\", 'creationDate': \"D:20250914113704+05'30'\", 'page': 1}, page_content='In 1576, Bengal came under the Mughal Empire. The province became one of the \\nwealthiest parts of the empire due to its thriving textile industry, particularly muslin and \\nsilk. Dhaka and Murshidabad emerged as major centers of commerce. European \\ntraders, including the Portuguese, Dutch, French, and British, established trading posts \\nin Bengal. \\nColonial Bengal'),\n",
       " Document(id='21c68065-3153-4051-811e-4b05d4f991c3', metadata={'producer': 'Microsoft® Word for Microsoft 365', 'creator': 'Microsoft® Word for Microsoft 365', 'creationdate': '2025-09-14T11:37:04+05:30', 'source': 'bengal.pdf', 'file_path': 'bengal.pdf', 'total_pages': 5, 'format': 'PDF 1.7', 'title': '', 'author': 'Saikat Santra', 'subject': '', 'keywords': '', 'moddate': '2025-09-14T11:37:04+05:30', 'trapped': '', 'modDate': \"D:20250914113704+05'30'\", 'creationDate': \"D:20250914113704+05'30'\", 'page': 0}, page_content='Bengal: A Historical, Cultural, and Socio-Economic Study \\nIntroduction \\nBengal, one of the most historically significant regions of South Asia, is today divided \\ninto the Indian state of West Bengal and the sovereign nation of Bangladesh. With a \\ncombined population of over 250 million people, Bengal represents one of the most'),\n",
       " Document(id='da5f04e8-31d7-4281-9f9f-259e82c1b9d3', metadata={'producer': 'Microsoft® Word for Microsoft 365', 'creator': 'Microsoft® Word for Microsoft 365', 'creationdate': '2025-09-14T11:37:04+05:30', 'source': 'bengal.pdf', 'file_path': 'bengal.pdf', 'total_pages': 5, 'format': 'PDF 1.7', 'title': '', 'author': 'Saikat Santra', 'subject': '', 'keywords': '', 'moddate': '2025-09-14T11:37:04+05:30', 'trapped': '', 'modDate': \"D:20250914113704+05'30'\", 'creationDate': \"D:20250914113704+05'30'\", 'page': 2}, page_content='Bengal’s geography also makes it vulnerable to natural disasters such as cyclones, \\nfloods, and river erosion. These environmental challenges have deeply influenced \\nsettlement patterns, migration, and livelihood strategies across centuries. \\n \\nEconomy of Bengal \\nPre-Colonial Economy \\nHistorically, Bengal was known as the “Paradise of Nations” due to its wealth. The')]"
      ]
     },
     "execution_count": 23,
     "metadata": {},
     "output_type": "execute_result"
    }
   ],
   "source": [
    "reranked_docs = [retrieved_docs[i] for i in indices if 0 <= i < len(retrieved_docs)]\n",
    "reranked_docs"
   ]
  },
  {
   "cell_type": "code",
   "execution_count": 24,
   "id": "0f13f1fa",
   "metadata": {},
   "outputs": [
    {
     "name": "stdout",
     "output_type": "stream",
     "text": [
      "\n",
      "📊 Final Reranked Results:\n",
      "\n",
      "Rank 1:\n",
      "identity. \n",
      " \n",
      "Historical Background \n",
      "Ancient Bengal \n",
      "The earliest historical references to Bengal appear in ancient Indian texts and \n",
      "inscriptions. The region was known as Vanga or Banga, and was inhabited by people \n",
      "skilled in navigation and trade. Archaeological evidence from sites such as Wari-\n",
      "Bateshwar suggests early urban settlements dating back to the 4th century BCE. Bengal\n",
      "\n",
      "Rank 2:\n",
      "history reflects cycles of prosperity and exploitation, creativity and struggle, unity and \n",
      "division. Whether in the streets of Kolkata or the villages of Bangladesh, Bengal remains \n",
      "alive with vibrant traditions, linguistic pride, and social dynamism. \n",
      "The story of Bengal is not merely regional; it is global. From Tagore’s poetry to the\n",
      "\n",
      "Rank 3:\n",
      "was mentioned in Greek accounts, including those of Megasthenes, as a rich land on \n",
      "the eastern frontier of India. \n",
      "Bengal came under the influence of major dynasties such as the Mauryas (321–185 \n",
      "BCE) and the Guptas (4th–6th centuries CE). These empires integrated Bengal into the \n",
      "larger cultural and economic networks of the Indian subcontinent. However, Bengal was\n",
      "\n",
      "Rank 4:\n",
      "In 1576, Bengal came under the Mughal Empire. The province became one of the \n",
      "wealthiest parts of the empire due to its thriving textile industry, particularly muslin and \n",
      "silk. Dhaka and Murshidabad emerged as major centers of commerce. European \n",
      "traders, including the Portuguese, Dutch, French, and British, established trading posts \n",
      "in Bengal. \n",
      "Colonial Bengal\n",
      "\n",
      "Rank 5:\n",
      "Bengal: A Historical, Cultural, and Socio-Economic Study \n",
      "Introduction \n",
      "Bengal, one of the most historically significant regions of South Asia, is today divided \n",
      "into the Indian state of West Bengal and the sovereign nation of Bangladesh. With a \n",
      "combined population of over 250 million people, Bengal represents one of the most\n",
      "\n",
      "Rank 6:\n",
      "Bengal’s geography also makes it vulnerable to natural disasters such as cyclones, \n",
      "floods, and river erosion. These environmental challenges have deeply influenced \n",
      "settlement patterns, migration, and livelihood strategies across centuries. \n",
      " \n",
      "Economy of Bengal \n",
      "Pre-Colonial Economy \n",
      "Historically, Bengal was known as the “Paradise of Nations” due to its wealth. The\n"
     ]
    }
   ],
   "source": [
    "# Step 6: Show results\n",
    "print(\"\\n📊 Final Reranked Results:\")\n",
    "for i, doc in enumerate(reranked_docs, 1):\n",
    "    print(f\"\\nRank {i}:\\n{doc.page_content}\")"
   ]
  },
  {
   "cell_type": "code",
   "execution_count": null,
   "id": "f508ec79",
   "metadata": {},
   "outputs": [],
   "source": []
  }
 ],
 "metadata": {
  "kernelspec": {
   "display_name": "hybrid_search (3.11.13)",
   "language": "python",
   "name": "python3"
  },
  "language_info": {
   "codemirror_mode": {
    "name": "ipython",
    "version": 3
   },
   "file_extension": ".py",
   "mimetype": "text/x-python",
   "name": "python",
   "nbconvert_exporter": "python",
   "pygments_lexer": "ipython3",
   "version": "3.11.13"
  }
 },
 "nbformat": 4,
 "nbformat_minor": 5
}
