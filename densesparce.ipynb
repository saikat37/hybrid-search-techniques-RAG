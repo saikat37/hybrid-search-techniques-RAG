{
 "cells": [
  {
   "cell_type": "markdown",
   "id": "46cf7664",
   "metadata": {},
   "source": [
    "## Hybrid Retriever- Combining Dense And Sparse Retriever"
   ]
  },
  {
   "cell_type": "code",
   "execution_count": 3,
   "id": "d5774cb0",
   "metadata": {},
   "outputs": [],
   "source": [
    "from langchain_community.vectorstores import FAISS\n",
    "from langchain.embeddings import HuggingFaceEmbeddings\n",
    "from langchain.document_loaders import PyMuPDFLoader\n",
    "from langchain.text_splitter import CharacterTextSplitter\n",
    "from langchain.retrievers import EnsembleRetriever\n",
    "from langchain.schema import Document\n",
    "from langchain_community.retrievers import BM25Retriever"
   ]
  },
  {
   "cell_type": "code",
   "execution_count": 1,
   "id": "e8853ed7",
   "metadata": {},
   "outputs": [],
   "source": [
    "from langchain_community.document_loaders import (\n",
    "    PyPDFLoader,\n",
    "    PyMuPDFLoader\n",
    ")"
   ]
  },
  {
   "cell_type": "code",
   "execution_count": null,
   "id": "964ff874",
   "metadata": {},
   "outputs": [
    {
     "name": "stdout",
     "output_type": "stream",
     "text": [
      "\n",
      " PyMuPDFLoader\n",
      "  Loaded 5 pages\n",
      "  Includes detailed metadata\n",
      "[Document(metadata={'producer': 'Microsoft® Word for Microsoft 365', 'creator': 'Microsoft® Word for Microsoft 365', 'creationdate': '2025-09-14T11:37:04+05:30', 'source': 'bengal.pdf', 'file_path': 'bengal.pdf', 'total_pages': 5, 'format': 'PDF 1.7', 'title': '', 'author': 'Saikat Santra', 'subject': '', 'keywords': '', 'moddate': '2025-09-14T11:37:04+05:30', 'trapped': '', 'modDate': \"D:20250914113704+05'30'\", 'creationDate': \"D:20250914113704+05'30'\", 'page': 0}, page_content='Bengal: A Historical, Cultural, and Socio-Economic Study \\nIntroduction \\nBengal, one of the most historically significant regions of South Asia, is today divided \\ninto the Indian state of West Bengal and the sovereign nation of Bangladesh. With a \\ncombined population of over 250 million people, Bengal represents one of the most \\ndensely populated and culturally vibrant areas of the world. For centuries, the region \\nhas been known as a land of abundance, thanks to the fertility of the Ganges-\\nBrahmaputra delta. It has also been a site of conflict, colonial exploitation, intellectual \\nrenaissance, and political transformation. \\nThe objective of this essay is to present a comprehensive research-style overview of \\nBengal. It explores Bengal’s history, geography, culture, economy, political \\ndevelopments, and the challenges faced in the modern era. The discussion emphasizes \\nBengal’s global significance as a land that has nurtured poets, philosophers, \\nrevolutionaries, and reformers while also enduring famines, partitions, and struggles for \\nidentity. \\n \\nHistorical Background \\nAncient Bengal \\nThe earliest historical references to Bengal appear in ancient Indian texts and \\ninscriptions. The region was known as Vanga or Banga, and was inhabited by people \\nskilled in navigation and trade. Archaeological evidence from sites such as Wari-\\nBateshwar suggests early urban settlements dating back to the 4th century BCE. Bengal \\nwas mentioned in Greek accounts, including those of Megasthenes, as a rich land on \\nthe eastern frontier of India. \\nBengal came under the influence of major dynasties such as the Mauryas (321–185 \\nBCE) and the Guptas (4th–6th centuries CE). These empires integrated Bengal into the \\nlarger cultural and economic networks of the Indian subcontinent. However, Bengal was \\ngeographically distant from the imperial centers, and local kingdoms such as the \\nGauda kingdom under King Shashanka (7th century) played a critical role in shaping its \\nindependent identity. \\nMedieval Bengal \\nFrom the 13th century, Bengal witnessed the arrival of Islamic rule. The Delhi Sultanate \\nexpanded eastward, and by the early 14th century, Bengal was established as a distinct \\nSultanate with its capital at Gaur. The Bengal Sultanate (1352–1576) was notable for \\nfostering cultural fusion between Islamic and Bengali traditions. Sufi saints spread \\nIslam in rural Bengal, while Persian and Bengali literary traditions flourished.'), Document(metadata={'producer': 'Microsoft® Word for Microsoft 365', 'creator': 'Microsoft® Word for Microsoft 365', 'creationdate': '2025-09-14T11:37:04+05:30', 'source': 'bengal.pdf', 'file_path': 'bengal.pdf', 'total_pages': 5, 'format': 'PDF 1.7', 'title': '', 'author': 'Saikat Santra', 'subject': '', 'keywords': '', 'moddate': '2025-09-14T11:37:04+05:30', 'trapped': '', 'modDate': \"D:20250914113704+05'30'\", 'creationDate': \"D:20250914113704+05'30'\", 'page': 1}, page_content='In 1576, Bengal came under the Mughal Empire. The province became one of the \\nwealthiest parts of the empire due to its thriving textile industry, particularly muslin and \\nsilk. Dhaka and Murshidabad emerged as major centers of commerce. European \\ntraders, including the Portuguese, Dutch, French, and British, established trading posts \\nin Bengal. \\nColonial Bengal \\nBengal’s destiny changed dramatically with the rise of the British East India Company. \\nThe Battle of Plassey (1757), in which the Company defeated Nawab Siraj-ud-Daulah, \\nmarked the beginning of colonial dominance. By 1765, the Company had gained Diwani \\nrights (revenue collection) over Bengal, Bihar, and Orissa, making Bengal the financial \\nbackbone of the British empire in India. \\nWhile Bengal enriched the colonial power, it also experienced devastating famines, \\nmost notably the Great Bengal Famine of 1943, which killed around three million \\npeople. The economic policies of deindustrialization crippled Bengal’s traditional textile \\nindustries. However, colonial Bengal also witnessed the Bengal Renaissance — a \\nperiod of intellectual awakening led by figures like Raja Ram Mohan Roy, Ishwar \\nChandra Vidyasagar, Bankim Chandra Chattopadhyay, and later Rabindranath Tagore. \\nBengal became a hub of reform movements, education, literature, and nationalist \\nthought. \\nPartition and Post-Colonial Bengal \\nThe Partition of Bengal in 1905 by the British, which divided the region into East Bengal \\n(Muslim-majority) and West Bengal (Hindu-majority), was a major turning point. \\nAlthough annulled in 1911 due to protests, it sowed communal divisions. Finally, in \\n1947, Bengal was partitioned again during Indian independence: East Bengal became \\nEast Pakistan (and later Bangladesh in 1971), while West Bengal remained with India. \\nPost-independence, both Bengals faced distinct trajectories. West Bengal became a \\ncenter of political turbulence, marked by refugee crises, leftist movements, and \\neventually long-standing communist rule. East Bengal, after decades of neglect under \\nPakistan, fought the Liberation War of 1971 to emerge as Bangladesh. \\n \\nGeography of Bengal \\nBengal is located in the Ganges-Brahmaputra-Meghna delta, the largest river delta in \\nthe world. This unique geographical feature has shaped Bengal’s culture and economy. \\nThe fertile alluvial soil supports agriculture, particularly rice cultivation. The \\nSundarbans, a vast mangrove forest shared by both West Bengal and Bangladesh, is \\nhome to the Royal Bengal Tiger and is a UNESCO World Heritage Site.'), Document(metadata={'producer': 'Microsoft® Word for Microsoft 365', 'creator': 'Microsoft® Word for Microsoft 365', 'creationdate': '2025-09-14T11:37:04+05:30', 'source': 'bengal.pdf', 'file_path': 'bengal.pdf', 'total_pages': 5, 'format': 'PDF 1.7', 'title': '', 'author': 'Saikat Santra', 'subject': '', 'keywords': '', 'moddate': '2025-09-14T11:37:04+05:30', 'trapped': '', 'modDate': \"D:20250914113704+05'30'\", 'creationDate': \"D:20250914113704+05'30'\", 'page': 2}, page_content='Bengal’s geography also makes it vulnerable to natural disasters such as cyclones, \\nfloods, and river erosion. These environmental challenges have deeply influenced \\nsettlement patterns, migration, and livelihood strategies across centuries. \\n \\nEconomy of Bengal \\nPre-Colonial Economy \\nHistorically, Bengal was known as the “Paradise of Nations” due to its wealth. The \\nmuslin of Dhaka was prized across Europe, while Bengal’s rice, jute, indigo, and silk \\nwere in global demand. The region’s rivers facilitated internal and external trade, making \\nBengal a key player in the Indian Ocean economy. \\nColonial Exploitation \\nUnder British rule, Bengal’s economy was reshaped to serve imperial interests. Indigo \\nand opium cultivation expanded, often through coercion, leading to peasant revolts \\nsuch as the Indigo Revolt of 1859–60. Traditional industries declined, while Calcutta \\n(now Kolkata) became the capital of British India until 1911, serving as a major \\nadministrative and commercial hub. \\nPost-Independence West Bengal \\nAfter independence, West Bengal faced economic challenges due to the influx of \\nmillions of refugees from East Bengal, industrial decline, and political instability. From \\nthe late 1970s to 2011, the Left Front government emphasized land reforms and rural \\ndevelopment, but industrial stagnation persisted. Recently, efforts have been made to \\nrevive industries, IT, and infrastructure in West Bengal. \\nPost-Independence Bangladesh \\nBangladesh, since its independence in 1971, has transformed from being an aid-\\ndependent economy to one of the fastest-growing economies in Asia. The ready-made \\ngarment (RMG) industry has been the backbone of its growth, alongside remittances \\nfrom overseas workers. Despite challenges of poverty, corruption, and climate change, \\nBangladesh has made significant progress in health, education, and women’s \\nempowerment. \\n \\nSociety and Culture \\nLanguage and Literature \\nBengali (Bangla) is the shared language of the region, spoken by over 230 million people. \\nIt is the seventh most spoken language in the world. Bengali literature has a rich'), Document(metadata={'producer': 'Microsoft® Word for Microsoft 365', 'creator': 'Microsoft® Word for Microsoft 365', 'creationdate': '2025-09-14T11:37:04+05:30', 'source': 'bengal.pdf', 'file_path': 'bengal.pdf', 'total_pages': 5, 'format': 'PDF 1.7', 'title': '', 'author': 'Saikat Santra', 'subject': '', 'keywords': '', 'moddate': '2025-09-14T11:37:04+05:30', 'trapped': '', 'modDate': \"D:20250914113704+05'30'\", 'creationDate': \"D:20250914113704+05'30'\", 'page': 3}, page_content='tradition, with medieval works like Charyapada and modern masterpieces by \\nRabindranath Tagore, who won the Nobel Prize in Literature in 1913. The Language \\nMovement of 1952 in East Pakistan, which eventually led to the recognition of Bengali \\nas a state language, is commemorated on International Mother Language Day (21 \\nFebruary) worldwide. \\nReligion and Syncretism \\nBengal is religiously diverse, with Hinduism and Islam as the two dominant faiths. The \\nBhakti and Sufi movements promoted harmony and spiritual pluralism. Figures like \\nChaitanya Mahaprabhu and Lalon Fakir symbolize Bengal’s syncretic traditions. \\nArt, Music, and Cinema \\nBengal has produced world-renowned artistic and musical traditions, from Rabindra \\nSangeet (songs composed by Tagore) to Nazrul Geeti (songs by Kazi Nazrul Islam). \\nBengali cinema, led by directors like Satyajit Ray, has earned global acclaim. Bengal’s \\nvisual arts, terracotta temples, and folk crafts like nakshi kantha embroidery reflect its \\ncultural richness. \\nFestivals \\nDurga Puja in West Bengal and Pohela Boishakh (Bengali New Year) in Bangladesh are \\nmajor cultural events that bring together communities, blending spirituality, art, and \\ncelebration. \\n \\nPolitical Developments \\nBengal has always been politically active. It was the cradle of the Indian nationalist \\nmovement, producing leaders like Subhas Chandra Bose, Aurobindo Ghosh, and Surya \\nSen. The revolutionary movements of Bengal played a significant role in challenging \\ncolonial rule. \\nPost-independence, West Bengal became a stronghold of leftist politics, with the \\nCommunist Party of India (Marxist) ruling for over three decades. In recent years, \\nregional parties such as the Trinamool Congress (TMC) have dominated politics. \\nIn Bangladesh, politics has been shaped by the rivalry between the Awami League and \\nthe Bangladesh Nationalist Party (BNP). The Liberation War of 1971 remains a defining \\npolitical event, and democracy, though often turbulent, has been consolidated in the \\ncountry. \\n \\nModern Challenges'), Document(metadata={'producer': 'Microsoft® Word for Microsoft 365', 'creator': 'Microsoft® Word for Microsoft 365', 'creationdate': '2025-09-14T11:37:04+05:30', 'source': 'bengal.pdf', 'file_path': 'bengal.pdf', 'total_pages': 5, 'format': 'PDF 1.7', 'title': '', 'author': 'Saikat Santra', 'subject': '', 'keywords': '', 'moddate': '2025-09-14T11:37:04+05:30', 'trapped': '', 'modDate': \"D:20250914113704+05'30'\", 'creationDate': \"D:20250914113704+05'30'\", 'page': 4}, page_content='Both West Bengal and Bangladesh face pressing challenges: \\n1. Overpopulation and Urbanization – Dhaka and Kolkata struggle with urban \\ncongestion and inadequate infrastructure. \\n2. Climate Change – Rising sea levels threaten the Sundarbans and coastal \\ncommunities. \\n3. Economic Inequality – Growth has not been equally distributed across rural and \\nurban areas. \\n4. Political Polarization – Deep divisions often disrupt governance. \\n5. Migration and Identity Issues – Refugee movements and border tensions \\ncontinue to influence society. \\n \\nConclusion \\nBengal is a land of paradoxes — immense cultural wealth alongside poverty, resilience \\namid natural calamities, and intellectual brilliance coupled with political turmoil. Its \\nhistory reflects cycles of prosperity and exploitation, creativity and struggle, unity and \\ndivision. Whether in the streets of Kolkata or the villages of Bangladesh, Bengal remains \\nalive with vibrant traditions, linguistic pride, and social dynamism. \\nThe story of Bengal is not merely regional; it is global. From Tagore’s poetry to the \\ngarment workers of Dhaka, Bengal contributes to world literature, economy, and \\npolitics. As the region moves forward, balancing heritage with modernization, Bengal \\nwill continue to be a crucial player in shaping South Asia’s future.')]\n"
     ]
    }
   ],
   "source": [
    "# Step1: Loaders\n",
    "print(\"\\n PyMuPDFLoader\")\n",
    "try:\n",
    "    loader = PyMuPDFLoader(\"bengal.pdf\")\n",
    "    docs = loader.load()\n",
    "\n",
    "    print(f\"  Loaded {len(docs)} pages\")\n",
    "    print(f\"  Includes detailed metadata\")\n",
    "    print(docs)\n",
    "except Exception as e:\n",
    "    print(f\"  Error: {e}\")"
   ]
  },
  {
   "cell_type": "code",
   "execution_count": 16,
   "id": "2ab8345e",
   "metadata": {},
   "outputs": [
    {
     "name": "stdout",
     "output_type": "stream",
     "text": [
      "Total chunks: 31\n"
     ]
    }
   ],
   "source": [
    "#step 2 : Text Splitter\n",
    "from langchain.text_splitter import RecursiveCharacterTextSplitter\n",
    "\n",
    "# Create text splitter\n",
    "text_splitter = RecursiveCharacterTextSplitter(\n",
    "    chunk_size=400,    # size of each chunk\n",
    "    chunk_overlap=80   # overlap to maintain context\n",
    ")\n",
    "\n",
    "# Split documents into chunks\n",
    "docs = text_splitter.split_documents(docs)\n",
    "print(f\"Total chunks: {len(docs)}\")"
   ]
  },
  {
   "cell_type": "code",
   "execution_count": 17,
   "id": "3dc70e72",
   "metadata": {},
   "outputs": [
    {
     "name": "stdout",
     "output_type": "stream",
     "text": [
      "\n",
      "--- Chunk 1 ---\n",
      "Content: Bengal: A Historical, Cultural, and Socio-Economic Study \n",
      "Introduction \n",
      "Bengal, one of the most historically significant regions of South Asia, is today divided \n",
      "into the Indian state of West Bengal a...\n",
      "Metadata: {'producer': 'Microsoft® Word for Microsoft 365', 'creator': 'Microsoft® Word for Microsoft 365', 'creationdate': '2025-09-14T11:37:04+05:30', 'source': 'bengal.pdf', 'file_path': 'bengal.pdf', 'total_pages': 5, 'format': 'PDF 1.7', 'title': '', 'author': 'Saikat Santra', 'subject': '', 'keywords': '', 'moddate': '2025-09-14T11:37:04+05:30', 'trapped': '', 'modDate': \"D:20250914113704+05'30'\", 'creationDate': \"D:20250914113704+05'30'\", 'page': 0}\n",
      "\n",
      "--- Chunk 2 ---\n",
      "Content: densely populated and culturally vibrant areas of the world. For centuries, the region \n",
      "has been known as a land of abundance, thanks to the fertility of the Ganges-\n",
      "Brahmaputra delta. It has also bee...\n",
      "Metadata: {'producer': 'Microsoft® Word for Microsoft 365', 'creator': 'Microsoft® Word for Microsoft 365', 'creationdate': '2025-09-14T11:37:04+05:30', 'source': 'bengal.pdf', 'file_path': 'bengal.pdf', 'total_pages': 5, 'format': 'PDF 1.7', 'title': '', 'author': 'Saikat Santra', 'subject': '', 'keywords': '', 'moddate': '2025-09-14T11:37:04+05:30', 'trapped': '', 'modDate': \"D:20250914113704+05'30'\", 'creationDate': \"D:20250914113704+05'30'\", 'page': 0}\n"
     ]
    }
   ],
   "source": [
    "for i, chunk in enumerate(docs[:2]):  # Display first 2 chunks\n",
    "    print(f\"\\n--- Chunk {i+1} ---\")\n",
    "    print(f\"Content: {chunk.page_content[:200]}...\")  # Print first 200 characters\n",
    "    print(f\"Metadata: {chunk.metadata}\")"
   ]
  },
  {
   "cell_type": "code",
   "execution_count": 18,
   "id": "38279f33",
   "metadata": {},
   "outputs": [],
   "source": [
    "# Step 3: Dense Retriever (FAISS + HuggingFace)\n",
    "embedding_model = HuggingFaceEmbeddings(model_name=\"all-MiniLM-L6-v2\")\n",
    "dense_vectorstore = FAISS.from_documents(docs, embedding_model)\n",
    "dense_retriever = dense_vectorstore.as_retriever()"
   ]
  },
  {
   "cell_type": "code",
   "execution_count": 20,
   "id": "55de8a02",
   "metadata": {},
   "outputs": [],
   "source": [
    "### Sparse Retriever(BM25)\n",
    "sparse_retriever=BM25Retriever.from_documents(docs)\n",
    "sparse_retriever.k=3 ##top- k documents to retriever\n",
    "\n",
    "## step 4 : Combine with Ensemble Retriever\n",
    "hybrid_retriever=EnsembleRetriever(\n",
    "    retrievers=[dense_retriever,sparse_retriever],\n",
    "    weight=[0.7,0.3]\n",
    ")\n"
   ]
  },
  {
   "cell_type": "code",
   "execution_count": 21,
   "id": "87166d70",
   "metadata": {},
   "outputs": [
    {
     "data": {
      "text/plain": [
       "EnsembleRetriever(retrievers=[VectorStoreRetriever(tags=['FAISS', 'HuggingFaceEmbeddings'], vectorstore=<langchain_community.vectorstores.faiss.FAISS object at 0x0000021E66B0B0D0>, search_kwargs={}), BM25Retriever(vectorizer=<rank_bm25.BM25Okapi object at 0x0000021E151C5090>, k=3)], weights=[0.5, 0.5])"
      ]
     },
     "execution_count": 21,
     "metadata": {},
     "output_type": "execute_result"
    }
   ],
   "source": [
    "hybrid_retriever\n"
   ]
  },
  {
   "cell_type": "code",
   "execution_count": 22,
   "id": "2dc12e14",
   "metadata": {},
   "outputs": [
    {
     "name": "stdout",
     "output_type": "stream",
     "text": [
      "\n",
      "🔹 Document 1:\n",
      "history reflects cycles of prosperity and exploitation, creativity and struggle, unity and \n",
      "division. Whether in the streets of Kolkata or the villages of Bangladesh, Bengal remains \n",
      "alive with vibrant traditions, linguistic pride, and social dynamism. \n",
      "The story of Bengal is not merely regional; it is global. From Tagore’s poetry to the\n",
      "\n",
      "🔹 Document 2:\n",
      "Bengal. It explores Bengal’s history, geography, culture, economy, political \n",
      "developments, and the challenges faced in the modern era. The discussion emphasizes \n",
      "Bengal’s global significance as a land that has nurtured poets, philosophers, \n",
      "revolutionaries, and reformers while also enduring famines, partitions, and struggles for \n",
      "identity. \n",
      " \n",
      "Historical Background \n",
      "Ancient Bengal\n",
      "\n",
      "🔹 Document 3:\n",
      "Bengal: A Historical, Cultural, and Socio-Economic Study \n",
      "Introduction \n",
      "Bengal, one of the most historically significant regions of South Asia, is today divided \n",
      "into the Indian state of West Bengal and the sovereign nation of Bangladesh. With a \n",
      "combined population of over 250 million people, Bengal represents one of the most\n",
      "\n",
      "🔹 Document 4:\n",
      "identity. \n",
      " \n",
      "Historical Background \n",
      "Ancient Bengal \n",
      "The earliest historical references to Bengal appear in ancient Indian texts and \n",
      "inscriptions. The region was known as Vanga or Banga, and was inhabited by people \n",
      "skilled in navigation and trade. Archaeological evidence from sites such as Wari-\n",
      "Bateshwar suggests early urban settlements dating back to the 4th century BCE. Bengal\n",
      "\n",
      "🔹 Document 5:\n",
      "densely populated and culturally vibrant areas of the world. For centuries, the region \n",
      "has been known as a land of abundance, thanks to the fertility of the Ganges-\n",
      "Brahmaputra delta. It has also been a site of conflict, colonial exploitation, intellectual \n",
      "renaissance, and political transformation. \n",
      "The objective of this essay is to present a comprehensive research-style overview of\n",
      "\n",
      "🔹 Document 6:\n",
      "Bengal’s geography also makes it vulnerable to natural disasters such as cyclones, \n",
      "floods, and river erosion. These environmental challenges have deeply influenced \n",
      "settlement patterns, migration, and livelihood strategies across centuries. \n",
      " \n",
      "Economy of Bengal \n",
      "Pre-Colonial Economy \n",
      "Historically, Bengal was known as the “Paradise of Nations” due to its wealth. The\n"
     ]
    }
   ],
   "source": [
    "# Step 5: Query and get results\n",
    "query = \"what is history of bengal?\"\n",
    "results = hybrid_retriever.invoke(query)\n",
    "\n",
    "# Step 6: Print results\n",
    "for i, doc in enumerate(results):\n",
    "    print(f\"\\n🔹 Document {i+1}:\\n{doc.page_content}\")"
   ]
  }
 ],
 "metadata": {
  "kernelspec": {
   "display_name": "hybrid_search (3.11.13)",
   "language": "python",
   "name": "python3"
  },
  "language_info": {
   "codemirror_mode": {
    "name": "ipython",
    "version": 3
   },
   "file_extension": ".py",
   "mimetype": "text/x-python",
   "name": "python",
   "nbconvert_exporter": "python",
   "pygments_lexer": "ipython3",
   "version": "3.11.13"
  }
 },
 "nbformat": 4,
 "nbformat_minor": 5
}
