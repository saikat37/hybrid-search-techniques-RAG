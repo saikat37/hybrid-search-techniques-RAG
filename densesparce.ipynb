{
 "cells": [
  {
   "cell_type": "markdown",
   "id": "46cf7664",
   "metadata": {},
   "source": [
    "## Hybrid Retriever- Combining Dense And Sparse Retriever"
   ]
  },
  {
   "cell_type": "code",
   "execution_count": 3,
   "id": "d5774cb0",
   "metadata": {},
   "outputs": [],
   "source": [
    "from langchain_community.vectorstores import FAISS\n",
    "from langchain.embeddings import HuggingFaceEmbeddings\n",
    "from langchain.document_loaders import PyMuPDFLoader\n",
    "from langchain.text_splitter import CharacterTextSplitter\n",
    "from langchain.retrievers import EnsembleRetriever\n",
    "from langchain.schema import Document\n",
    "from langchain_community.retrievers import BM25Retriever"
   ]
  },
  {
   "cell_type": "code",
   "execution_count": 1,
   "id": "e8853ed7",
   "metadata": {},
   "outputs": [],
   "source": [
    "from langchain_community.document_loaders import (\n",
    "    PyPDFLoader,\n",
    "    PyMuPDFLoader\n",
    ")"
   ]
  },
  {
   "cell_type": "code",
   "execution_count": null,
   "id": "964ff874",
   "metadata": {},
   "outputs": [
    {
     "name": "stdout",
     "output_type": "stream",
     "text": [
      "\n",
      " PyMuPDFLoader\n",
      "  Loaded 5 pages\n",
      "  Includes detailed metadata\n",
      "[Document(metadata={'producer': 'Microsoft® Word for Microsoft 365', 'creator': 'Microsoft® Word for Microsoft 365', 'creationdate': '2025-09-14T11:37:04+05:30', 'source': 'bengal.pdf', 'file_path': 'bengal.pdf', 'total_pages': 5, 'format': 'PDF 1.7', 'title': '', 'author': 'Saikat Santra', 'subject': '', 'keywords': '', 'moddate': '2025-09-14T11:37:04+05:30', 'trapped': '', 'modDate': \"D:20250914113704+05'30'\", 'creationDate': \"D:20250914113704+05'30'\", 'page': 0}, page_content='Bengal: A Historical, Cultural, and Socio-Economic Study \\nIntroduction \\nBengal, one of the most historically significant regions of South Asia, is today divided \\ninto the Indian state of West Bengal and the sovereign nation of Bangladesh. With a \\ncombined population of over 250 million people, Bengal represents one of the most \\ndensely populated and culturally vibrant areas of the world. For centuries, the region \\nhas been known as a land of abundance, thanks to the fertility of the Ganges-\\nBrahmaputra delta. It has also been a site of conflict, colonial exploitation, intellectual \\nrenaissance, and political transformation. \\nThe objective of this essay is to present a comprehensive research-style overview of \\nBengal. It explores Bengal’s history, geography, culture, economy, political \\ndevelopments, and the challenges faced in the modern era. The discussion emphasizes \\nBengal’s global significance as a land that has nurtured poets, philosophers, \\nrevolutionaries, and reformers while also enduring famines, partitions, and struggles for \\nidentity. \\n \\nHistorical Background \\nAncient Bengal \\nThe earliest historical references to Bengal appear in ancient Indian texts and \\ninscriptions. The region was known as Vanga or Banga, and was inhabited by people \\nskilled in navigation and trade. Archaeological evidence from sites such as Wari-\\nBateshwar suggests early urban settlements dating back to the 4th century BCE. Bengal \\nwas mentioned in Greek accounts, including those of Megasthenes, as a rich land on \\nthe eastern frontier of India. \\nBengal came under the influence of major dynasties such as the Mauryas (321–185 \\nBCE) and the Guptas (4th–6th centuries CE). These empires integrated Bengal into the \\nlarger cultural and economic networks of the Indian subcontinent. However, Bengal was \\ngeographically distant from the imperial centers, and local kingdoms such as the \\nGauda kingdom under King Shashanka (7th century) played a critical role in shaping its \\nindependent identity. \\nMedieval Bengal \\nFrom the 13th century, Bengal witnessed the arrival of Islamic rule. The Delhi Sultanate \\nexpanded eastward, and by the early 14th century, Bengal was established as a distinct \\nSultanate with its capital at Gaur. The Bengal Sultanate (1352–1576) was notable for \\nfostering cultural fusion between Islamic and Bengali traditions. Sufi saints spread \\nIslam in rural Bengal, while Persian and Bengali literary traditions flourished.'), Document(metadata={'producer': 'Microsoft® Word for Microsoft 365', 'creator': 'Microsoft® Word for Microsoft 365', 'creationdate': '2025-09-14T11:37:04+05:30', 'source': 'bengal.pdf', 'file_path': 'bengal.pdf', 'total_pages': 5, 'format': 'PDF 1.7', 'title': '', 'author': 'Saikat Santra', 'subject': '', 'keywords': '', 'moddate': '2025-09-14T11:37:04+05:30', 'trapped': '', 'modDate': \"D:20250914113704+05'30'\", 'creationDate': \"D:20250914113704+05'30'\", 'page': 1}, page_content='In 1576, Bengal came under the Mughal Empire. The province became one of the \\nwealthiest parts of the empire due to its thriving textile industry, particularly muslin and \\nsilk. Dhaka and Murshidabad emerged as major centers of commerce. European \\ntraders, including the Portuguese, Dutch, French, and British, established trading posts \\nin Bengal. \\nColonial Bengal \\nBengal’s destiny changed dramatically with the rise of the British East India Company. \\nThe Battle of Plassey (1757), in which the Company defeated Nawab Siraj-ud-Daulah, \\nmarked the beginning of colonial dominance. By 1765, the Company had gained Diwani \\nrights (revenue collection) over Bengal, Bihar, and Orissa, making Bengal the financial \\nbackbone of the British empire in India. \\nWhile Bengal enriched the colonial power, it also experienced devastating famines, \\nmost notably the Great Bengal Famine of 1943, which killed around three million \\npeople. The economic policies of deindustrialization crippled Bengal’s traditional textile \\nindustries. However, colonial Bengal also witnessed the Bengal Renaissance — a \\nperiod of intellectual awakening led by figures like Raja Ram Mohan Roy, Ishwar \\nChandra Vidyasagar, Bankim Chandra Chattopadhyay, and later Rabindranath Tagore. \\nBengal became a hub of reform movements, education, literature, and nationalist \\nthought. \\nPartition and Post-Colonial Bengal \\nThe Partition of Bengal in 1905 by the British, which divided the region into East Bengal \\n(Muslim-majority) and West Bengal (Hindu-majority), was a major turning point. \\nAlthough annulled in 1911 due to protests, it sowed communal divisions. Finally, in \\n1947, Bengal was partitioned again during Indian independence: East Bengal became \\nEast Pakistan (and later Bangladesh in 1971), while West Bengal remained with India. \\nPost-independence, both Bengals faced distinct trajectories. West Bengal became a \\ncenter of political turbulence, marked by refugee crises, leftist movements, and \\neventually long-standing communist rule. East Bengal, after decades of neglect under \\nPakistan, fought the Liberation War of 1971 to emerge as Bangladesh. \\n \\nGeography of Bengal \\nBengal is located in the Ganges-Brahmaputra-Meghna delta, the largest river delta in \\nthe world. This unique geographical feature has shaped Bengal’s culture and economy. \\nThe fertile alluvial soil supports agriculture, particularly rice cultivation. The \\nSundarbans, a vast mangrove forest shared by both West Bengal and Bangladesh, is \\nhome to the Royal Bengal Tiger and is a UNESCO World Heritage Site.'), Document(metadata={'producer': 'Microsoft® Word for Microsoft 365', 'creator': 'Microsoft® Word for Microsoft 365', 'creationdate': '2025-09-14T11:37:04+05:30', 'source': 'bengal.pdf', 'file_path': 'bengal.pdf', 'total_pages': 5, 'format': 'PDF 1.7', 'title': '', 'author': 'Saikat Santra', 'subject': '', 'keywords': '', 'moddate': '2025-09-14T11:37:04+05:30', 'trapped': '', 'modDate': \"D:20250914113704+05'30'\", 'creationDate': \"D:20250914113704+05'30'\", 'page': 2}, page_content='Bengal’s geography also makes it vulnerable to natural disasters such as cyclones, \\nfloods, and river erosion. These environmental challenges have deeply influenced \\nsettlement patterns, migration, and livelihood strategies across centuries. \\n \\nEconomy of Bengal \\nPre-Colonial Economy \\nHistorically, Bengal was known as the “Paradise of Nations” due to its wealth. The \\nmuslin of Dhaka was prized across Europe, while Bengal’s rice, jute, indigo, and silk \\nwere in global demand. The region’s rivers facilitated internal and external trade, making \\nBengal a key player in the Indian Ocean economy. \\nColonial Exploitation \\nUnder British rule, Bengal’s economy was reshaped to serve imperial interests. Indigo \\nand opium cultivation expanded, often through coercion, leading to peasant revolts \\nsuch as the Indigo Revolt of 1859–60. Traditional industries declined, while Calcutta \\n(now Kolkata) became the capital of British India until 1911, serving as a major \\nadministrative and commercial hub. \\nPost-Independence West Bengal \\nAfter independence, West Bengal faced economic challenges due to the influx of \\nmillions of refugees from East Bengal, industrial decline, and political instability. From \\nthe late 1970s to 2011, the Left Front government emphasized land reforms and rural \\ndevelopment, but industrial stagnation persisted. Recently, efforts have been made to \\nrevive industries, IT, and infrastructure in West Bengal. \\nPost-Independence Bangladesh \\nBangladesh, since its independence in 1971, has transformed from being an aid-\\ndependent economy to one of the fastest-growing economies in Asia. The ready-made \\ngarment (RMG) industry has been the backbone of its growth, alongside remittances \\nfrom overseas workers. Despite challenges of poverty, corruption, and climate change, \\nBangladesh has made significant progress in health, education, and women’s \\nempowerment. \\n \\nSociety and Culture \\nLanguage and Literature \\nBengali (Bangla) is the shared language of the region, spoken by over 230 million people. \\nIt is the seventh most spoken language in the world. Bengali literature has a rich'), Document(metadata={'producer': 'Microsoft® Word for Microsoft 365', 'creator': 'Microsoft® Word for Microsoft 365', 'creationdate': '2025-09-14T11:37:04+05:30', 'source': 'bengal.pdf', 'file_path': 'bengal.pdf', 'total_pages': 5, 'format': 'PDF 1.7', 'title': '', 'author': 'Saikat Santra', 'subject': '', 'keywords': '', 'moddate': '2025-09-14T11:37:04+05:30', 'trapped': '', 'modDate': \"D:20250914113704+05'30'\", 'creationDate': \"D:20250914113704+05'30'\", 'page': 3}, page_content='tradition, with medieval works like Charyapada and modern masterpieces by \\nRabindranath Tagore, who won the Nobel Prize in Literature in 1913. The Language \\nMovement of 1952 in East Pakistan, which eventually led to the recognition of Bengali \\nas a state language, is commemorated on International Mother Language Day (21 \\nFebruary) worldwide. \\nReligion and Syncretism \\nBengal is religiously diverse, with Hinduism and Islam as the two dominant faiths. The \\nBhakti and Sufi movements promoted harmony and spiritual pluralism. Figures like \\nChaitanya Mahaprabhu and Lalon Fakir symbolize Bengal’s syncretic traditions. \\nArt, Music, and Cinema \\nBengal has produced world-renowned artistic and musical traditions, from Rabindra \\nSangeet (songs composed by Tagore) to Nazrul Geeti (songs by Kazi Nazrul Islam). \\nBengali cinema, led by directors like Satyajit Ray, has earned global acclaim. Bengal’s \\nvisual arts, terracotta temples, and folk crafts like nakshi kantha embroidery reflect its \\ncultural richness. \\nFestivals \\nDurga Puja in West Bengal and Pohela Boishakh (Bengali New Year) in Bangladesh are \\nmajor cultural events that bring together communities, blending spirituality, art, and \\ncelebration. \\n \\nPolitical Developments \\nBengal has always been politically active. It was the cradle of the Indian nationalist \\nmovement, producing leaders like Subhas Chandra Bose, Aurobindo Ghosh, and Surya \\nSen. The revolutionary movements of Bengal played a significant role in challenging \\ncolonial rule. \\nPost-independence, West Bengal became a stronghold of leftist politics, with the \\nCommunist Party of India (Marxist) ruling for over three decades. In recent years, \\nregional parties such as the Trinamool Congress (TMC) have dominated politics. \\nIn Bangladesh, politics has been shaped by the rivalry between the Awami League and \\nthe Bangladesh Nationalist Party (BNP). The Liberation War of 1971 remains a defining \\npolitical event, and democracy, though often turbulent, has been consolidated in the \\ncountry. \\n \\nModern Challenges'), Document(metadata={'producer': 'Microsoft® Word for Microsoft 365', 'creator': 'Microsoft® Word for Microsoft 365', 'creationdate': '2025-09-14T11:37:04+05:30', 'source': 'bengal.pdf', 'file_path': 'bengal.pdf', 'total_pages': 5, 'format': 'PDF 1.7', 'title': '', 'author': 'Saikat Santra', 'subject': '', 'keywords': '', 'moddate': '2025-09-14T11:37:04+05:30', 'trapped': '', 'modDate': \"D:20250914113704+05'30'\", 'creationDate': \"D:20250914113704+05'30'\", 'page': 4}, page_content='Both West Bengal and Bangladesh face pressing challenges: \\n1. Overpopulation and Urbanization – Dhaka and Kolkata struggle with urban \\ncongestion and inadequate infrastructure. \\n2. Climate Change – Rising sea levels threaten the Sundarbans and coastal \\ncommunities. \\n3. Economic Inequality – Growth has not been equally distributed across rural and \\nurban areas. \\n4. Political Polarization – Deep divisions often disrupt governance. \\n5. Migration and Identity Issues – Refugee movements and border tensions \\ncontinue to influence society. \\n \\nConclusion \\nBengal is a land of paradoxes — immense cultural wealth alongside poverty, resilience \\namid natural calamities, and intellectual brilliance coupled with political turmoil. Its \\nhistory reflects cycles of prosperity and exploitation, creativity and struggle, unity and \\ndivision. Whether in the streets of Kolkata or the villages of Bangladesh, Bengal remains \\nalive with vibrant traditions, linguistic pride, and social dynamism. \\nThe story of Bengal is not merely regional; it is global. From Tagore’s poetry to the \\ngarment workers of Dhaka, Bengal contributes to world literature, economy, and \\npolitics. As the region moves forward, balancing heritage with modernization, Bengal \\nwill continue to be a crucial player in shaping South Asia’s future.')]\n"
     ]
    }
   ],
   "source": [
    "# Step1: Loaders\n",
    "print(\"\\n PyMuPDFLoader\")\n",
    "try:\n",
    "    loader = PyMuPDFLoader(\"bengal.pdf\")\n",
    "    docs = loader.load()\n",
    "\n",
    "    print(f\"  Loaded {len(docs)} pages\")\n",
    "    print(f\"  Includes detailed metadata\")\n",
    "    print(docs)\n",
    "except Exception as e:\n",
    "    print(f\"  Error: {e}\")"
   ]
  },
  {
   "cell_type": "code",
   "execution_count": 7,
   "id": "38279f33",
   "metadata": {},
   "outputs": [
    {
     "name": "stderr",
     "output_type": "stream",
     "text": [
      "C:\\Users\\Saikat Santra\\AppData\\Local\\Temp\\ipykernel_75984\\1207144024.py:2: LangChainDeprecationWarning: The class `HuggingFaceEmbeddings` was deprecated in LangChain 0.2.2 and will be removed in 1.0. An updated version of the class exists in the :class:`~langchain-huggingface package and should be used instead. To use it run `pip install -U :class:`~langchain-huggingface` and import as `from :class:`~langchain_huggingface import HuggingFaceEmbeddings``.\n",
      "  embedding_model = HuggingFaceEmbeddings(model_name=\"all-MiniLM-L6-v2\")\n"
     ]
    },
    {
     "ename": "ImportError",
     "evalue": "Could not import sentence_transformers python package. Please install it with `pip install sentence-transformers`.",
     "output_type": "error",
     "traceback": [
      "\u001b[31m---------------------------------------------------------------------------\u001b[39m",
      "\u001b[31mModuleNotFoundError\u001b[39m                       Traceback (most recent call last)",
      "\u001b[36mFile \u001b[39m\u001b[32mc:\\Users\\Saikat Santra\\Desktop\\hybrid_search\\.venv\\Lib\\site-packages\\langchain_community\\embeddings\\huggingface.py:84\u001b[39m, in \u001b[36mHuggingFaceEmbeddings.__init__\u001b[39m\u001b[34m(self, **kwargs)\u001b[39m\n\u001b[32m     83\u001b[39m \u001b[38;5;28;01mtry\u001b[39;00m:\n\u001b[32m---> \u001b[39m\u001b[32m84\u001b[39m     \u001b[38;5;28;01mimport\u001b[39;00m\u001b[38;5;250m \u001b[39m\u001b[34;01msentence_transformers\u001b[39;00m\n\u001b[32m     86\u001b[39m \u001b[38;5;28;01mexcept\u001b[39;00m \u001b[38;5;167;01mImportError\u001b[39;00m \u001b[38;5;28;01mas\u001b[39;00m exc:\n",
      "\u001b[31mModuleNotFoundError\u001b[39m: No module named 'sentence_transformers'",
      "\nThe above exception was the direct cause of the following exception:\n",
      "\u001b[31mImportError\u001b[39m                               Traceback (most recent call last)",
      "\u001b[36mCell\u001b[39m\u001b[36m \u001b[39m\u001b[32mIn[7]\u001b[39m\u001b[32m, line 2\u001b[39m\n\u001b[32m      1\u001b[39m \u001b[38;5;66;03m# Step 2: Dense Retriever (FAISS + HuggingFace)\u001b[39;00m\n\u001b[32m----> \u001b[39m\u001b[32m2\u001b[39m embedding_model = \u001b[43mHuggingFaceEmbeddings\u001b[49m\u001b[43m(\u001b[49m\u001b[43mmodel_name\u001b[49m\u001b[43m=\u001b[49m\u001b[33;43m\"\u001b[39;49m\u001b[33;43mall-MiniLM-L6-v2\u001b[39;49m\u001b[33;43m\"\u001b[39;49m\u001b[43m)\u001b[49m\n\u001b[32m      3\u001b[39m dense_vectorstore = FAISS.from_documents(docs, embedding_model)\n\u001b[32m      4\u001b[39m dense_retriever = dense_vectorstore.as_retriever()\n",
      "\u001b[36mFile \u001b[39m\u001b[32mc:\\Users\\Saikat Santra\\Desktop\\hybrid_search\\.venv\\Lib\\site-packages\\langchain_core\\_api\\deprecation.py:226\u001b[39m, in \u001b[36mdeprecated.<locals>.deprecate.<locals>.finalize.<locals>.warn_if_direct_instance\u001b[39m\u001b[34m(self, *args, **kwargs)\u001b[39m\n\u001b[32m    224\u001b[39m     warned = \u001b[38;5;28;01mTrue\u001b[39;00m\n\u001b[32m    225\u001b[39m     emit_warning()\n\u001b[32m--> \u001b[39m\u001b[32m226\u001b[39m \u001b[38;5;28;01mreturn\u001b[39;00m \u001b[43mwrapped\u001b[49m\u001b[43m(\u001b[49m\u001b[38;5;28;43mself\u001b[39;49m\u001b[43m,\u001b[49m\u001b[43m \u001b[49m\u001b[43m*\u001b[49m\u001b[43margs\u001b[49m\u001b[43m,\u001b[49m\u001b[43m \u001b[49m\u001b[43m*\u001b[49m\u001b[43m*\u001b[49m\u001b[43mkwargs\u001b[49m\u001b[43m)\u001b[49m\n",
      "\u001b[36mFile \u001b[39m\u001b[32mc:\\Users\\Saikat Santra\\Desktop\\hybrid_search\\.venv\\Lib\\site-packages\\langchain_community\\embeddings\\huggingface.py:87\u001b[39m, in \u001b[36mHuggingFaceEmbeddings.__init__\u001b[39m\u001b[34m(self, **kwargs)\u001b[39m\n\u001b[32m     84\u001b[39m     \u001b[38;5;28;01mimport\u001b[39;00m\u001b[38;5;250m \u001b[39m\u001b[34;01msentence_transformers\u001b[39;00m\n\u001b[32m     86\u001b[39m \u001b[38;5;28;01mexcept\u001b[39;00m \u001b[38;5;167;01mImportError\u001b[39;00m \u001b[38;5;28;01mas\u001b[39;00m exc:\n\u001b[32m---> \u001b[39m\u001b[32m87\u001b[39m     \u001b[38;5;28;01mraise\u001b[39;00m \u001b[38;5;167;01mImportError\u001b[39;00m(\n\u001b[32m     88\u001b[39m         \u001b[33m\"\u001b[39m\u001b[33mCould not import sentence_transformers python package. \u001b[39m\u001b[33m\"\u001b[39m\n\u001b[32m     89\u001b[39m         \u001b[33m\"\u001b[39m\u001b[33mPlease install it with `pip install sentence-transformers`.\u001b[39m\u001b[33m\"\u001b[39m\n\u001b[32m     90\u001b[39m     ) \u001b[38;5;28;01mfrom\u001b[39;00m\u001b[38;5;250m \u001b[39m\u001b[34;01mexc\u001b[39;00m\n\u001b[32m     92\u001b[39m \u001b[38;5;28mself\u001b[39m.client = sentence_transformers.SentenceTransformer(\n\u001b[32m     93\u001b[39m     \u001b[38;5;28mself\u001b[39m.model_name, cache_folder=\u001b[38;5;28mself\u001b[39m.cache_folder, **\u001b[38;5;28mself\u001b[39m.model_kwargs\n\u001b[32m     94\u001b[39m )\n",
      "\u001b[31mImportError\u001b[39m: Could not import sentence_transformers python package. Please install it with `pip install sentence-transformers`."
     ]
    }
   ],
   "source": [
    "# Step 2: Dense Retriever (FAISS + HuggingFace)\n",
    "embedding_model = HuggingFaceEmbeddings(model_name=\"all-MiniLM-L6-v2\")\n",
    "dense_vectorstore = FAISS.from_documents(docs, embedding_model)\n",
    "dense_retriever = dense_vectorstore.as_retriever()"
   ]
  }
 ],
 "metadata": {
  "kernelspec": {
   "display_name": "hybrid_search (3.11.13)",
   "language": "python",
   "name": "python3"
  },
  "language_info": {
   "codemirror_mode": {
    "name": "ipython",
    "version": 3
   },
   "file_extension": ".py",
   "mimetype": "text/x-python",
   "name": "python",
   "nbconvert_exporter": "python",
   "pygments_lexer": "ipython3",
   "version": "3.11.13"
  }
 },
 "nbformat": 4,
 "nbformat_minor": 5
}
